{
 "cells": [
  {
   "cell_type": "markdown",
   "metadata": {
    "id": "GvCD8oLHf7Ff"
   },
   "source": [
    "# Tugas Pendahuluan - PBF - Modul 2\n",
    "**Dimas Wahyu Saputro\n",
    "120450081**"
   ]
  },
  {
   "cell_type": "markdown",
   "metadata": {
    "id": "Q9cMqccUf7Ft"
   },
   "source": [
    "## Soal\n",
    "Kerjakan seluruh soal berikut dengan menggunakan higher order function map,filter dan reduce!"
   ]
  },
  {
   "cell_type": "markdown",
   "metadata": {
    "id": "59RKOnE7f7Fv"
   },
   "source": [
    "## 1\n",
    "Buatlah sebuah fungsi bernama ulangi_NIM, ulangi memiliki input sebuah bilangan skalar a, dan mengeluarkan vektor 1xn dengan seluruh elemen nya adalah a !"
   ]
  },
  {
   "cell_type": "markdown",
   "metadata": {
    "id": "o89c6R-Wf7Fw"
   },
   "source": [
    "Referensi:\n",
    "[Matrix](https://www.planetofbits.com/python/how-to-create-a-vector-in-python-using-numpy/)"
   ]
  },
  {
   "cell_type": "code",
   "execution_count": null,
   "metadata": {
    "colab": {
     "base_uri": "https://localhost:8080/"
    },
    "id": "KB3P6iGVf7Fy",
    "outputId": "643f984b-fb03-42d5-a863-27bb434a3216"
   },
   "outputs": [
    {
     "data": {
      "text/plain": [
       "[10, 10, 10, 10]"
      ]
     },
     "execution_count": 36,
     "metadata": {},
     "output_type": "execute_result"
    }
   ],
   "source": [
    "'''\n",
    "Karena ingin mencetak bilangan skalar a, sebanyak n, digunakan map().\n",
    "map() mempunyai struktur map(function, iterable(s))\n",
    "\n",
    "1. pada function, saya menggunakan lambda. x menjadi parameter, dan a menjadi ekspresi.\n",
    "    akan selalu mengembalikan nilai a.\n",
    "2. iterable, yaitu range(0,n). Artinya, akan membuat urutan angka dari 0 hingga n.\n",
    "\n",
    "Ketika map(lambda x: a, range(0, n)), akan mengembalikan bilangan skalar a, sebanyak n.\n",
    "'''\n",
    "def ulangi_081(a, n):\n",
    "    return list(map(lambda x: a, range(0, n)))\n",
    "\n",
    "''' saya disini ingin mencetak vektor 1xn, dengan bilangan = 10, dan n = 4 '''\n",
    "ulangi_081(10, 4)"
   ]
  },
  {
   "cell_type": "markdown",
   "metadata": {
    "id": "oiDFsi2rf7F8"
   },
   "source": [
    "## 2\n",
    "Buatlah deret bilangan sebagai berikut dengan input n sebagai panjang deret:\n",
    "\n",
    "$$ \n",
    "\\frac{1}{2},  \\frac{-1}{4}, ⃛, (-1)^n\\frac{1}{2}\n",
    "$$"
   ]
  },
  {
   "cell_type": "markdown",
   "metadata": {
    "id": "yAvIC4QRf7F9"
   },
   "source": [
    "Referensi:\n",
    "[Deret - RuangGuru](https://www.ruangguru.com/blog/barisan-dan-deret-geometri)"
   ]
  },
  {
   "cell_type": "code",
   "execution_count": null,
   "metadata": {
    "colab": {
     "base_uri": "https://localhost:8080/"
    },
    "id": "ao-9BmVTf7F9",
    "outputId": "436f36b2-53da-4ec1-bfae-c4309d8899a2"
   },
   "outputs": [
    {
     "data": {
      "text/plain": [
       "[0.5, -0.25, 0.125, -0.0625]"
      ]
     },
     "execution_count": 47,
     "metadata": {},
     "output_type": "execute_result"
    }
   ],
   "source": [
    "import functools\n",
    "\n",
    "''' Membuat fungsi untuk menghitung nilai deret ke-n '''\n",
    "def calc_seq(n):\n",
    "    return pow(-1, n + 1) * (1/pow(2, n))\n",
    "\n",
    "'''\n",
    "Membuat fungsi untuk mencetak deret dari deret ke-1 sampai ke-n\n",
    "Langkah awal, menggunakan map(). map() mempunyai struktur: map(function, iterable(s))\n",
    "\n",
    "1. pada function, saya menggunakan lambda. x menjadi parameter, dan calc_seq(x) menjadi ekspresi. \n",
    "    Artinya, dari setiap nilai iterable nanti, akan mereturn nilai calc_seq(x).\n",
    "2. iterable, yaitu range(1, n+1). Artinya, akan membuat urutan angka dari 1 hingga n+1.\n",
    "'''\n",
    "def gen_seq(n):\n",
    "    return list(map(lambda x: calc_seq(x), range(1, n+1)))\n",
    "\n",
    "gen_seq(4)"
   ]
  },
  {
   "cell_type": "markdown",
   "metadata": {
    "id": "v2i7Zm9-f7F-"
   },
   "source": [
    "## 3\n",
    "Jumlahkan deret bilangan tersebut!"
   ]
  },
  {
   "cell_type": "code",
   "execution_count": null,
   "metadata": {
    "colab": {
     "base_uri": "https://localhost:8080/"
    },
    "id": "SA0rjpIof7GA",
    "outputId": "a4419caa-441d-489c-d149-488c6790c061"
   },
   "outputs": [
    {
     "data": {
      "text/plain": [
       "0.3125"
      ]
     },
     "execution_count": 48,
     "metadata": {},
     "output_type": "execute_result"
    }
   ],
   "source": [
    "import functools\n",
    "\n",
    "'''\n",
    "Untuk menjumlahkan dari deret yang sudah ada, dibutuhkan reduce() function.\n",
    "fungsi reduce() menghasilkan suatu nilai kumulatif dari operasi fungsi masukan terhadap nilai pada iterable masukan.\n",
    "\n",
    "'''\n",
    "def sum_seq(n):\n",
    "    seq = gen_seq(n)\n",
    "    return functools.reduce(lambda x, y: x+y, seq, 0)\n",
    "\n",
    "sum_seq(4)"
   ]
  },
  {
   "cell_type": "markdown",
   "metadata": {
    "id": "_xH6Sv-kf7GC"
   },
   "source": [
    "## 4\n",
    "Sebuah DNA dimodelkan dalam sebuah string menjadi sequence TCGA dan disimpan ke dalam. Hitunglah kemunculan pola!"
   ]
  },
  {
   "cell_type": "markdown",
   "metadata": {
    "id": "3tvbBdESf7GC"
   },
   "source": [
    "Referensi:\n",
    "[Count the number of times a letter](https://www.geeksforgeeks.org/count-the-number-of-times-a-letter-appears-in-a-text-file-in-python/)"
   ]
  },
  {
   "cell_type": "code",
   "execution_count": null,
   "metadata": {
    "colab": {
     "base_uri": "https://localhost:8080/",
     "height": 257
    },
    "id": "m5cQJr2p71tS",
    "outputId": "5ede7d45-2db7-4d6f-9406-f2a55190d397"
   },
   "outputs": [
    {
     "data": {
      "application/vnd.google.colaboratory.intrinsic+json": {
       "type": "string"
      },
      "text/plain": [
       "'TGTCTTCCGGCTGAGCGGTTCCTAACCAGCAGACTGATACTGGTCGAATATCGACGGGCAAGAGCCCTGGGATTGATGCGTTTCACCATGCGCGTCTCAGTGCAGGCAGGAATGCAGAGCTTACTTCAAACTAGTTACTGGCAAAAAATACAAATTTTTTCGATCGACCTTGAGTTTATTCATTACCGCACAGTCTTTTACCGCACCTGTTACCGCACATCCGTAAGTTTACCGCACGTTACCGCACTACCTCTCTATATTACCGCACTTCGTTTACCGCACGCTGAGGAACGGTTACCGCACTTACCGCACCACAAGGTGCGTGCTCTGTTATTACCGCACCACCATTACCGCACGCACTTTTATTACCGCACCAGGGCACAGCCACGTAGGGTAGCGTCGTTCTCACTGTATTGCGGCGACGGTCGTAATTTACCGCATTACCGCACCACTCGTTAGCTTACCGCACCTAGGGTTGTTACCGCACGACTTACCGCACAGCCGTTACCGCACGTGTTACTTGACGCTCTAACTCCCACTCATATCAGTCTTATTACCGCACACTGGGCTTACCGCACCCGCACCTTAAGTAGGCAGTTACCGCACGTATTACCGCACGTAATTACCGCACACCTGTAAAGGCAGGGTAAAGTACAGACTTACCGCTTACCGCACGGTTGCACCACGACAAATCTAACGTTAGGTACGTTACCGCACGGGAAATTACCGCACTCCAGGGTTTTACCGCACAGATATCCATTCGGGAATGTGACCCCTGGAGTGGAGTTGTGCGAAAGATACGGAGTTTTCAAGGGCACACCCAGCTATGTTATTAAGCGTTACAGTGGCCGCTGCATCATGTCAATGTTCAGGTCATTCTCTATCTTGCTATGTACGAACCCTCGTTAAGAGGGAGTAAGCGATCTTTTGACAAAATCGTATGCATGTAGGCGAGGCAATGCCGATTACATTGAACGGCGGGACTTTTCGTATGAGACACCGCGGTTGAAATATTTTTTTATGCAAGAGCGGGATTGGGCGGAAGGAGACTTAACGCAGTGCCTAGCACTGTTAACTGCGGCATGGCCGGATGGACTACCTATTTTGCAGCTCCAGCGTTTGAGTTCCACGTACTGACGGAACAGTCCCGAGATAGGCCATGTGGTCGATCCCAGTGAGAAATGAGACTCGAGATGCCGGTACCGGTAGCATCACCACATTGCTCCAGTATGATATCAGTCTTCACTGTCAGCAATTAATGCAGCGATCTTGAAGAGAGTTATTCATCTCTTATCACCTGACAATAAATCAATTTACCAGTCAAATTCTCTTTAACATCGTGCCGAACTGCGATGCGTCGTAGTCTAGATTAGGATATATTTTCTTAGCTGGCTTCGATGATTGGCTGTACGCTAAGGTGATTGAATTTCGATCTGCATTGGAGCTGTACCCCACCTTGCATGGCATTGACAGCCTAAAGCGTGAAGAATGCAATACAGCTGACAGAAAAATAACGGGCTCGATAACGTTCCAAGATTCTGACTTAACGACGGCTAGCGAGCGAGTCATAAATCCCGTCCACACCGGGCAATCGGGTCGGAGTGGAAAGGGCGGGATTTTATTATTACGTGACGCAGATCTCCGTGTCACTATACTCACATCCTCTCTGTAGATAAAGTTATACCAACCTCCATATTCTTCTTACGCTAAGTTCGGGCTATCCGAGTCTCGGCCCATAGCAGGAGCACTTTAAGGGAAGTCCTATTGCCGAATACAGTACGTTCCCCGCAATATGTTATACTCACCCAAATATGTTAATATGTTATATGTTAAAACGCAGTGTGGGAATATGTTAATATGTTATGTGAATATGTTAAAATATGTTAAAATATGTTAACGATGTTAGCCGTGATAAATATGTTATTAACGGCGTGCGTTAATATGTTAGCGACGACTGGGGGTCAATATGTTAGCCAACTTCCTCAATATGTTAACCGGTTAATATGTTAGTTAAGATCAATAAATATGTTAGCTACGTAGACAATAAAAGCATAAGCAATATGTTATAATATGTTAGACAGTTCTCTAACCGATAATATGTTAAGGCATACTTAACCAGCGAATGACAGAAATATGTTAATATGTTAAATAAATATGTTAGATAATATGTTACGATATTACCCGCACATTGCTCCGAATATGAATATGTTAAGGTGGTTCTCCGTATTTAATATTGTGAGAGATAGCTTGTGAGAGATGTTGTTGTGAGAGAGCTGTGAGAGCTTTGCGAGCCTTTAAATATTGTGAGAGTTATGTAGTCGGCCTGTGAGAGATGTGTGAGAGAGTTAAATATGTTAGTTAGCTGAGAGCTACGCTGTGAGAGGCGAATTGACGTAGTGCTTTTTGTTCTGTGAGAGATGTGTGAGAGTGTGAGAGCGCGTGTGAGTGTGAGAGTGATTGTGCATGGTCCAGTAAGATGTGAGAGTGTGAGAGTGATCTAACGCTATGTGTGAGAGAGGGTGTGAGAGGCTGCGTATGAAGCACAAATGTGAGAGTTGTGAGAGATACGTTAAGAGCCCGGAAGCTCGGCATCATAAGCTGAGCAGATTCAATGTGAGAGGGCGAGCCGACGGTAGGCTGTGAGAGTCATTATTGTGAGAGTCGCGTGGTGTGAGAGTCCCATTTTATGTGAGATGTGAGAGCTCTGGGGCTGTGATGTGAGAGAGTACGCCGAAGCGTGTGAGAGTCCTGTGAGAGATTCGGAGGTCTGGATGACATTGTGAGAGCCTGCTTACGCGACGTGATGAACGCGACCGACTAGCGACCGCCCACTACTACTCGCAGTTGGTCTAGAGGCATTGCTTTACTGAAATACGCAGGATGCTTATGACGCTCGCGCCAATACATCGCGCTCGCACTGTATGTCGCTTCACCTTAATCCTAAAGCTCAAATATAACGGAAAAAGAGAAATTAGGACGACCGAGGGTCGTCCTCCGGTGGTTTTCACGACTTCGCCAATGGCGTGCTGCGTCGAAATGTGCTCAAAGCCCCGTAAAGCTCAGACACCATGCAGGAATGGGAATGTGTACCCAGAGATCCCTAGTAAGAGAGATCCAAGACTTAAAGCCGTTCCGAGAGAGATCTAATCACTAGAGATCTTAACACCAATAGAGATCCTCTAAGAGATCAGTAGAGATCGCTTTTCAGAGATAGAGATCACTCACCGAGAGATCTTACAGTTTGATATGTCAGTTCGGTTAAAAGCAGAGATCGTCTGCAGAGATCGGTAGCGTAGAGATCCCGTGTCGTACAAAAACTTAGAGATCAGATCGCGCCTCGAACTGTACTTAGAGATCTACATTATCTAAGAGAGAGATCAGAGATCACAAGGCCACACACGACAAAGTTAGAGATCTACACACGATAGGTGGTGCCGAACCTGAGAGATCCGGGTTTTGAGAGAGATCAAGAGATAGAGATCGTTAGAGAAGAGATCTAGAGATCGCACGGGTTTTGGAGAGATCGTTCGGGTTTTGTCGGGAAGAGATTAATGCGGTGAGTTAATGCGGGTATAATGCGGCAGATAATGTAATGCGGTCTAATGTAATGCGGGAGATAATGCGGTGATGAAACTTAATGCGGCTAATGCGGTTAATGCGGTCGAACGCTAATGCGGAGCTAATGCGGGCGTAACATAATGTAATGCGGTTGTCAATATTGTTTTCAATATTAATATTCAATTACAATATTCAAACGCAATATTAAACGGCCGGTAATGCGGGGTCAATCAATATTTTCGTAATGCGGGGTTAATGCGGTTTTCAATATTATCGGTAATGCGGGAGCTGGCAATATTGGTTTTGGTAATGCGGTTTAATAATGCGGGGCGACAATATTGGGTAATGCGGATATTTATCAATATTGTGTTTCAATATTTAACACAATATTTGCCGTAGGTATGACCTAATTAATGCGGATATTAGGGGCCAATTAATGCGGATCGTAATGCGGGTCGGGCTTATAACAATTAATGCGGTCAATATTACTAATGCTAATGCGGCGGACTACAATATTTACAAAAGACTACCAATAATGCGGATAATGCGGTCAATAATGCGGAAGATAACGCGGCAATATTGCCCGACAATATTTGACTACACAAGACTACACAATATTCCGTTATTCTGTGCCAACGCCAGGTCAATGCGTCGAACCAATATTCTTGATTGTGATGCAGACTACACGACTACAATATTTACCCCCGGGACTACATATCCACGACTACAGGGCGAGACTACATAGGGACTACAGACTACAACAATTATGGTCACATTAACTCTGCCCGGCGGCTCTTCCCTAAATCTCACGTGATGGACTAGACTACACCGACTACAACATACTTTGCAACGACTACAGTACGTTAAGACTACAGGATTCAGACTACACTTGATTTCCTGACTACACTTCTGACAACCCGCACATTGCCCGCTAACTCTGATGGCCCCCAGAGACTACATACCATCGAGCGCGACTACAGGACTACAGCCGTAGACCCTTTAGACTACACGCCAGGGCCAACTGACACGGATAAGGTCTTTGCCCCGCAAGTGCTCGCCGAATGTGATTAATCTCAACATTCCGACCTGCAAGAGCACACGCATTTGATATGGGTATAAGGAAGATCTCGTCCAGCTATAATGTACAACATTTCCCCGTCATGACTTGCTACATAAACAGAATAAGACGTGACGTCGCCAATATAAGACGTACTCGATTGACCGTAAAATTTTTCTAAGAACCAAAATAAGACGTAAGACGTTCACTTAAATAAGACGTAGGGCGTTACCGATAAGACGTTAAGACGTGGATCGCCATCGCCCGTGAGTCGCTCTCCCGCATAAGACGTTAAGACGTCCCAATAGTGCTCCCTACACTTTACCGGTGGTAGATAAGACGTAGACGTTATAAGACGTCGGGTAAATATAAGACGTTATTCCCAATAAATAAGACGTAATCCCTGTAACACTGGAAGTGATAAGACGTTTGTTCTAACATAAGACGTTGTAACTGCCCTAACCCTGATAAGACGTTTTAAAAAGTACTATAAGACGTTCGAGGAATGAGACCATAAGACGTCGTCCCTCCCTCAGCACTGAATTTTTTCGAAGATAAGACGTAAGACGTGTTGGTTTATCGTTAGAAATAAGACGTACGTTTATAAGACGTAATGGTCATAAGACGTACGTTAAGACGTAATAAGACGTTATCCATCCCAAAATTACACGTCAGAAATCATGGCAACCGCCGTGATGGAAGAGAGTAGCAACCGACTACATACAGTATACTGTGGGCAGACTCGTTTGTACACCAACACTTCCGCCGCCATTATTAAATACGATTGGTGCTTTACGCATCTTGATGACCATGGTTACTCACCTCGGGTGCTGACCCGCCTGTCTCCTATGACGTCGGGCTCCACTACGGCCCCGTTTCGACAGATAGGGGGGAGTTGACCTCGAATGCGGGTTACTTCGCCTGCCTTTCGACGAATCGGTATGGCTAGCTTGGACAAGTATAGGATTGGTCTTTCAAGCTGCACTGTTTTGCAGCTTCTAGCGAGATAAGGCTGAAGCCTCCAGCGATATTGTCCAGTTGGAAAAAAGTTGGAAAAATGGGGGTTTGGAAAAAAGAAAACGCCCGGGTTACACCGGGGACATAATTGGAAAAAACCAGTTGGAAAAAGCTTAGAAAGCTTGGAAAAAGTCTTGGGAACAATTATTGGAAAAACGATGGGCGACTGAGAGTTGGAAAAAAAAATTGGAAAAATTGGAAAAACGTGGCTTTGGAAAAATGGAAAAAGATTGGAAAAATTGGAAAAACTTTTGGAATTGGAAAAAAAAGCCACTGCGGGTGCTTTGGAAAAAATATTTGGAAAAAACTAGCAAAGCGGCATTCTGAGAGATTGGAAAAACGTGCTAAGCTTCTTTGGAAAAAGAATTGGAAAAAAAAAAGCGCACCACTCAGGAAGACATGTCTGGCACTTTAGCGTTAAAGTTTGGAAAAAACTCCTCCCACATTTGGAAAAATGGAAAAAGAATCGGTTAGAGCGGCACGTGTCATATTGGAAAAATACTCAGCGCGTTAGCAGTTGGAAAAAAATGATGACTATGTTTGGAAGACAAGGAGAAAGTCTCCGAACAACATCCATGACAAGGAGGAGGCTGGACAAGGATTCAGGCTGTTCAGACAAGGAGGGACGACAAGGAAGGACTGTTCAGGCTGGACAAGACAAGGACTGTTGACAAGGACAGGACAAGGACGAAAGGCTGTTCAGGGACAAGGAAGGACAGGCTGTTCAGAGGACGAGGACGACAAGGAAGGCTGTTCAGGCTGTTCAGGAGGACGAGGAAGGATGTTCGACAAGAGGACGACAGGCTAGGACGACGAAGAGGACGACTGTTCAGGCTGTAGGACGAGGACGAAAGGATGTTGACAAGGAGGAGAGGAGGACGAGGAAGGACGAAAGGAGACAAGGAGACAAGGAGACAAGGAAGGACGAAGGACGAAGGACGAAGGACGAAGGACGAAGGACGAAGGACAGAGGACAGGACGACGAAGGACGAAGGACGAAGGACAGGACGAAGGACGAAGGACGAAGGACGACAATCATCAATCATCAATCATCAATCATCAATCATCAATCATCAATCATCAATCATCAATCATCAATCATCAATCATCAATCATCAATCATCAATCATCAATCATCAATCATCAATCATCAATCATCAATCATCAATCATCAATCATCAATCATCAATCATCAATCATCAATCATCAATCATCAATCATCAATCATCAATCATCAATCATCAATCATCAATCATCAATCATCAATCATCAATCATCAATCATCAATCATCAATCAT'"
      ]
     },
     "execution_count": 54,
     "metadata": {},
     "output_type": "execute_result"
    }
   ],
   "source": [
    "''' Membuka file .txt '''\n",
    "filename = 'DNA.txt'\n",
    "dat = open(filename, 'r').read()\n",
    "\n",
    "''' Ketika file .txt dibuka, diakhir akan terdapat string \\n. Hal ini harus kita cegah, karena kita hanya ingin string DNA '''\n",
    "dat = dat[:-1]\n",
    "#dat"
   ]
  },
  {
   "cell_type": "code",
   "execution_count": null,
   "metadata": {
    "id": "tir4zr1m8cp1"
   },
   "outputs": [],
   "source": [
    "import functools as ft\n",
    "\n",
    "'''\n",
    "Karena harus dimodularkan, fungsi append_n berfungsi untuk mendapatkan string terpecah dari data, mirip seperti split().\n",
    "Pada fungsi append_n digunakan reduce, supaya mengembalikan satu nilai.\n",
    "Misalkan append_n(dat, 0, 3), maka akan mengembalikan nilai 'TGT'\n",
    "'''\n",
    "def append_n(dat, i, n):\n",
    "    return ft.reduce( lambda a,b:a+b , dat[i:i+n] )\n",
    "\n",
    "'''\n",
    "fungsi remap() berguna untuk membuat list yang berisi string terpecah dari data. \n",
    "Digunakan map, dengan fungsi lambda yang akan memproses setiap item dari iterable,\n",
    "dengan iterable range(len(dat) - len(seq)), artinya panjang data - panjang seq.\n",
    "\n",
    "Misalkan list(remap(dat, 'ACT')), akan mengembalikan ['TGT', 'GTC', 'TCT', .... ]\n",
    "'''\n",
    "def remap(dat, seq):\n",
    "    return map( lambda x: append_n(dat,x,len(seq)) , range(len(dat) - len(seq) + 1 ) )\n",
    "\n",
    "'''\n",
    "Setelah didapatkan list, dibuat fungsi count_mer() untuk menghitung berapa kali seq tertentu muncul. \n",
    "digunakan reduce() akan menghasilkan suatu nilai kumulatif dari operasi fungsi masukan.\n",
    "'''\n",
    "def count_mer(dat, seq):\n",
    "    return ft.reduce( lambda a, b: a + (1 if b == seq else 0) , remap(dat, seq) , 0 )"
   ]
  },
  {
   "cell_type": "code",
   "execution_count": null,
   "metadata": {
    "colab": {
     "base_uri": "https://localhost:8080/",
     "height": 36
    },
    "id": "Xt7G9IWtdFnf",
    "outputId": "589b38b4-ad78-4a31-8d04-8b9fc80d01ed"
   },
   "outputs": [
    {
     "data": {
      "application/vnd.google.colaboratory.intrinsic+json": {
       "type": "string"
      },
      "text/plain": [
       "'GTCT'"
      ]
     },
     "execution_count": 67,
     "metadata": {},
     "output_type": "execute_result"
    }
   ],
   "source": [
    "append_n(dat, 1, 4)"
   ]
  },
  {
   "cell_type": "code",
   "execution_count": null,
   "metadata": {
    "colab": {
     "base_uri": "https://localhost:8080/"
    },
    "id": "0jKyQZNp976y",
    "outputId": "66a832a9-ba07-4b52-efe4-338d2efbaa97"
   },
   "outputs": [
    {
     "name": "stdout",
     "output_type": "stream",
     "text": [
      "2112 557 77 22 5\n"
     ]
    }
   ],
   "source": [
    "sequences = [ 'A', 'AT', 'GGT', 'AAGC', 'AGCTA' ]\n",
    "\n",
    "''' fungsi untuk menghitung kemunculan sequences, menggunakan fungsi yang sudah dicoba di atas '''\n",
    "def count_all(dat, sequences):\n",
    "    return map ( lambda x: count_mer(dat,x), sequences )\n",
    "\n",
    "res = count_all(dat, sequences)\n",
    "print(*res)"
   ]
  },
  {
   "cell_type": "markdown",
   "metadata": {
    "id": "GCLZIIBu_L05"
   },
   "source": [
    "## 5\n",
    "Reverse complement dari suatu sequence string DNA memiliki aturan sebagai berikut:\n",
    "\n",
    "A adalah komplemen dari T\n",
    "\n",
    "C adalah komplemen dari G\n",
    "\n",
    "Contoh reverse complement:\n",
    "\n",
    "input DNA : ACTGA\n",
    "\n",
    "Reverse complmenet : TGACT\n",
    "\n",
    "Buatlah fungsi untuk mencari inverse komplemen dari data pada nomor 4 !"
   ]
  },
  {
   "cell_type": "code",
   "execution_count": null,
   "metadata": {
    "id": "cZrHGUy6_Unk"
   },
   "outputs": [],
   "source": [
    "''' Metode get() mengembalikan nilai item dengan kunci yang ditentukan. '''\n",
    "def komplemen(x):\n",
    "    return {'A':'T', 'T':'A', 'C':'G', 'G':'C' }.get(x)\n",
    "\n",
    "''' Mereverse komplemen data menggunakan map '''\n",
    "def reverse_komplemen(dat):\n",
    "    return map( lambda x: komplemen(x), dat)"
   ]
  },
  {
   "cell_type": "code",
   "execution_count": null,
   "metadata": {
    "colab": {
     "base_uri": "https://localhost:8080/"
    },
    "id": "h6akDFlE_uix",
    "outputId": "753a28e1-f9d0-471d-8362-211df2ea807c"
   },
   "outputs": [
    {
     "name": "stdout",
     "output_type": "stream",
     "text": [
      "A C A G A A G G C C G A C T C G C C A A G G A T T G G T C G T C T G A C T A T G A C C A G C T T A T A G C T G C C C G T T C T C G G G A C C C T A A C T A C G C A A A G T G G T A C G C G C A G A G T C A C G T C C G T C C T T A C G T C T C G A A T G A A G T T T G A T C A A T G A C C G T T T T T T A T G T T T A A A A A A G C T A G C T G G A A C T C A A A T A A G T A A T G G C G T G T C A G A A A A T G G C G T G G A C A A T G G C G T G T A G G C A T T C A A A T G G C G T G C A A T G G C G T G A T G G A G A G A T A T A A T G G C G T G A A G C A A A T G G C G T G C G A C T C C T T G C C A A T G G C G T G A A T G G C G T G G T G T T C C A C G C A C G A G A C A A T A A T G G C G T G G T G G T A A T G G C G T G C G T G A A A A T A A T G G C G T G G T C C C G T G T C G G T G C A T C C C A T C G C A G C A A G A G T G A C A T A A C G C C G C T G C C A G C A T T A A A T G G C G T A A T G G C G T G G T G A G C A A T C G A A T G G C G T G G A T C C C A A C A A T G G C G T G C T G A A T G G C G T G T C G G C A A T G G C G T G C A C A A T G A A C T G C G A G A T T G A G G G T G A G T A T A G T C A G A A T A A T G G C G T G T G A C C C G A A T G G C G T G G G C G T G G A A T T C A T C C G T C A A T G G C G T G C A T A A T G G C G T G C A T T A A T G G C G T G T G G A C A T T T C C G T C C C A T T T C A T G T C T G A A T G G C G A A T G G C G T G C C A A C G T G G T G C T G T T T A G A T T G C A A T C C A T G C A A T G G C G T G C C C T T T A A T G G C G T G A G G T C C C A A A A T G G C G T G T C T A T A G G T A A G C C C T T A C A C T G G G G A C C T C A C C T C A A C A C G C T T T C T A T G C C T C A A A A G T T C C C G T G T G G G T C G A T A C A A T A A T T C G C A A T G T C A C C G G C G A C G T A G T A C A G T T A C A A G T C C A G T A A G A G A T A G A A C G A T A C A T G C T T G G G A G C A A T T C T C C C T C A T T C G C T A G A A A A C T G T T T T A G C A T A C G T A C A T C C G C T C C G T T A C G G C T A A T G T A A C T T G C C G C C C T G A A A A G C A T A C T C T G T G G C G C C A A C T T T A T A A A A A A A T A C G T T C T C G C C C T A A C C C G C C T T C C T C T G A A T T G C G T C A C G G A T C G T G A C A A T T G A C G C C G T A C C G G C C T A C C T G A T G G A T A A A A C G T C G A G G T C G C A A A C T C A A G G T G C A T G A C T G C C T T G T C A G G G C T C T A T C C G G T A C A C C A G C T A G G G T C A C T C T T T A C T C T G A G C T C T A C G G C C A T G G C C A T C G T A G T G G T G T A A C G A G G T C A T A C T A T A G T C A G A A G T G A C A G T C G T T A A T T A C G T C G C T A G A A C T T C T C T C A A T A A G T A G A G A A T A G T G G A C T G T T A T T T A G T T A A A T G G T C A G T T T A A G A G A A A T T G T A G C A C G G C T T G A C G C T A C G C A G C A T C A G A T C T A A T C C T A T A T A A A A G A A T C G A C C G A A G C T A C T A A C C G A C A T G C G A T T C C A C T A A C T T A A A G C T A G A C G T A A C C T C G A C A T G G G G T G G A A C G T A C C G T A A C T G T C G G A T T T C G C A C T T C T T A C G T T A T G T C G A C T G T C T T T T T A T T G C C C G A G C T A T T G C A A G G T T C T A A G A C T G A A T T G C T G C C G A T C G C T C G C T C A G T A T T T A G G G C A G G T G T G G C C C G T T A G C C C A G C C T C A C C T T T C C C G C C C T A A A A T A A T A A T G C A C T G C G T C T A G A G G C A C A G T G A T A T G A G T G T A G G A G A G A C A T C T A T T T C A A T A T G G T T G G A G G T A T A A G A A G A A T G C G A T T C A A G C C C G A T A G G C T C A G A G C C G G G T A T C G T C C T C G T G A A A T T C C C T T C A G G A T A A C G G C T T A T G T C A T G C A A G G G G C G T T A T A C A A T A T G A G T G G G T T T A T A C A A T T A T A C A A T A T A C A A T T T T G C G T C A C A C C C T T A T A C A A T T A T A C A A T A C A C T T A T A C A A T T T T A T A C A A T T T T A T A C A A T T G C T A C A A T C G G C A C T A T T T A T A C A A T A A T T G C C G C A C G C A A T T A T A C A A T C G C T G C T G A C C C C C A G T T A T A C A A T C G G T T G A A G G A G T T A T A C A A T T G G C C A A T T A T A C A A T C A A T T C T A G T T A T T T A T A C A A T C G A T G C A T C T G T T A T T T T C G T A T T C G T T A T A C A A T A T T A T A C A A T C T G T C A A G A G A T T G G C T A T T A T A C A A T T C C G T A T G A A T T G G T C G C T T A C T G T C T T T A T A C A A T T A T A C A A T T T A T T T A T A C A A T C T A T T A T A C A A T G C T A T A A T G G G C G T G T A A C G A G G C T T A T A C T T A T A C A A T T C C A C C A A G A G G C A T A A A T T A T A A C A C T C T C T A T C G A A C A C T C T C T A C A A C A A C A C T C T C T C G A C A C T C T C G A A A C G C T C G G A A A T T T A T A A C A C T C T C A A T A C A T C A G C C G G A C A C T C T C T A C A C A C T C T C T C A A T T T A T A C A A T C A A T C G A C T C T C G A T G C G A C A C T C T C C G C T T A A C T G C A T C A C G A A A A A C A A G A C A C T C T C T A C A C A C T C T C A C A C T C T C G C G C A C A C T C A C A C T C T C A C T A A C A C G T A C C A G G T C A T T C T A C A C T C T C A C A C T C T C A C T A G A T T G C G A T A C A C A C T C T C T C C C A C A C T C T C C G A C G C A T A C T T C G T G T T T A C A C T C T C A A C A C T C T C T A T G C A A T T C T C G G G C C T T C G A G C C G T A G T A T T C G A C T C G T C T A A G T T A C A C T C T C C C G C T C G G C T G C C A T C C G A C A C T C T C A G T A A T A A C A C T C T C A G C G C A C C A C A C T C T C A G G G T A A A A T A C A C T C T A C A C T C T C G A G A C C C C G A C A C T A C A C T C T C T C A T G C G G C T T C G C A C A C T C T C A G G A C A C T C T C T A A G C C T C C A G A C C T A C T G T A A C A C T C T C G G A C G A A T G C G C T G C A C T A C T T G C G C T G G C T G A T C G C T G G C G G G T G A T G A T G A G C G T C A A C C A G A T C T C C G T A A C G A A A T G A C T T T A T G C G T C C T A C G A A T A C T G C G A G C G C G G T T A T G T A G C G C G A G C G T G A C A T A C A G C G A A G T G G A A T T A G G A T T T C G A G T T T A T A T T G C C T T T T T C T C T T T A A T C C T G C T G G C T C C C A G C A G G A G G C C A C C A A A A G T G C T G A A G C G G T T A C C G C A C G A C G C A G C T T T A C A C G A G T T T C G G G G C A T T T C G A G T C T G T G G T A C G T C C T T A C C C T T A C A C A T G G G T C T C T A G G G A T C A T T C T C T C T A G G T T C T G A A T T T C G G C A A G G C T C T C T C T A G A T T A G T G A T C T C T A G A A T T G T G G T T A T C T C T A G G A G A T T C T C T A G T C A T C T C T A G C G A A A A G T C T C T A T C T C T A G T G A G T G G C T C T C T A G A A T G T C A A A C T A T A C A G T C A A G C C A A T T T T C G T C T C T A G C A G A C G T C T C T A G C C A T C G C A T C T C T A G G G C A C A G C A T G T T T T T G A A T C T C T A G T C T A G C G C G G A G C T T G A C A T G A A T C T C T A G A T G T A A T A G A T T C T C T C T C T A G T C T C T A G T G T T C C G G T G T G T G C T G T T T C A A T C T C T A G A T G T G T G C T A T C C A C C A C G G C T T G G A C T C T C T A G G C C C A A A A C T C T C T C T A G T T C T C T A T C T C T A G C A A T C T C T T C T C T A G A T C T C T A G C G T G C C C A A A A C C T C T C T A G C A A G C C C A A A A C A G C C C T T C T C T A A T T A C G C C A C T C A A T T A C G C C C A T A T T A C G C C G T C T A T T A C A T T A C G C C A G A T T A C A T T A C G C C C T C T A T T A C G C C A C T A C T T T G A A T T A C G C C G A T T A C G C C A A T T A C G C C A G C T T G C G A T T A C G C C T C G A T T A C G C C C G C A T T G T A T T A C A T T A C G C C A A C A G T T A T A A C A A A A G T T A T A A T T A T A A G T T A A T G T T A T A A G T T T G C G T T A T A A T T T G C C G G C C A T T A C G C C C C A G T T A G T T A T A A A A G C A T T A C G C C C C A A T T A C G C C A A A A G T T A T A A T A G C C A T T A C G C C C T C G A C C G T T A T A A C C A A A A C C A T T A C G C C A A A T T A T T A C G C C C C G C T G T T A T A A C C C A T T A C G C C T A T A A A T A G T T A T A A C A C A A A G T T A T A A A T T G T G T T A T A A A C G G C A T C C A T A C T G G A T T A A T T A C G C C T A T A A T C C C C G G T T A A T T A C G C C T A G C A T T A C G C C C A G C C C G A A T A T T G T T A A T T A C G C C A G T T A T A A T G A T T A C G A T T A C G C C G C C T G A T G T T A T A A A T G T T T T C T G A T G G T T A T T A C G C C T A T T A C G C C A G T T A T T A C G C C T T C T A T T G C G C C G T T A T A A C G G G C T G T T A T A A A C T G A T G T G T T C T G A T G T G T T A T A A G G C A A T A A G A C A C G G T T G C G G T C C A G T T A C G C A G C T T G G T T A T A A G A A C T A A C A C T A C G T C T G A T G T G C T G A T G T T A T A A A T G G G G G C C C T G A T G T A T A G G T G C T G A T G T C C C G C T C T G A T G T A T C C C T G A T G T C T G A T G T T G T T A A T A C C A G T G T A A T T G A G A C G G G C C G C C G A G A A G G G A T T T A G A G T G C A C T A C C T G A T C T G A T G T G G C T G A T G T T G T A T G A A A C G T T G C T G A T G T C A T G C A A T T C T G A T G T C C T A A G T C T G A T G T G A A C T A A A G G A C T G A T G T G A A G A C T G T T G G G C G T G T A A C G G G C G A T T G A G A C T A C C G G G G G T C T C T G A T G T A T G G T A G C T C G C G C T G A T G T C C T G A T G T C G G C A T C T G G G A A A T C T G A T G T G C G G T C C C G G T T G A C T G T G C C T A T T C C A G A A A C G G G G C G T T C A C G A G C G G C T T A C A C T A A T T A G A G T T G T A A G G C T G G A C G T T C T C G T G T G C G T A A A C T A T A C C C A T A T T C C T T C T A G A G C A G G T C G A T A T T A C A T G T T G T A A A G G G G C A G T A C T G A A C G A T G T A T T T G T C T T A T T C T G C A C T G C A G C G G T T A T A T T C T G C A T G A G C T A A C T G G C A T T T T A A A A A G A T T C T T G G T T T T A T T C T G C A T T C T G C A A G T G A A T T T A T T C T G C A T C C C G C A A T G G C T A T T C T G C A A T T C T G C A C C T A G C G G T A G C G G G C A C T C A G C G A G A G G G C G T A T T C T G C A A T T C T G C A G G G T T A T C A C G A G G G A T G T G A A A T G G C C A C C A T C T A T T C T G C A T C T G C A A T A T T C T G C A G C C C A T T T A T A T T C T G C A A T A A G G G T T A T T T A T T C T G C A T T A G G G A C A T T G T G A C C T T C A C T A T T C T G C A A A C A A G A T T G T A T T C T G C A A C A T T G A C G G G A T T G G G A C T A T T C T G C A A A A T T T T T C A T G A T A T T C T G C A A G C T C C T T A C T C T G G T A T T C T G C A G C A G G G A G G G A G T C G T G A C T T A A A A A A G C T T C T A T T C T G C A T T C T G C A C A A C C A A A T A G C A A T C T T T A T T C T G C A T G C A A A T A T T C T G C A T T A C C A G T A T T C T G C A T G C A A T T C T G C A T T A T T C T G C A A T A G G T A G G G T T T T A A T G T G C A G T C T T T A G T A C C G T T G G C G G C A C T A C C T T C T C T C A T C G T T G G C T G A T G T A T G T C A T A T G A C A C C C G T C T G A G C A A A C A T G T G G T T G T G A A G G C G G C G G T A A T A A T T T A T G C T A A C C A C G A A A T G C G T A G A A C T A C T G G T A C C A A T G A G T G G A G C C C A C G A C T G G G C G G A C A G A G G A T A C T G C A G C C C G A G G T G A T G C C G G G G C A A A G C T G T C T A T C C C C C C T C A A C T G G A G C T T A C G C C C A A T G A A G C G G A C G G A A A G C T G C T T A G C C A T A C C G A T C G A A C C T G T T C A T A T C C T A A C C A G A A A G T T C G A C G T G A C A A A A C G T C G A A G A T C G C T C T A T T C C G A C T T C G G A G G T C G C T A T A A C A G G T C A A C C T T T T T T C A A C C T T T T T A C C C C C A A A C C T T T T T T C T T T T G C G G G C C C A A T G T G G C C C C T G T A T T A A C C T T T T T T G G T C A A C C T T T T T C G A A T C T T T C G A A C C T T T T T C A G A A C C C T T G T T A A T A A C C T T T T T G C T A C C C G C T G A C T C T C A A C C T T T T T T T T T A A C C T T T T T A A C C T T T T T G C A C C G A A A C C T T T T T A C C T T T T T C T A A C C T T T T T A A C C T T T T T G A A A A C C T T A A C C T T T T T T T T C G G T G A C G C C C A C G A A A C C T T T T T T A T A A A C C T T T T T T G A T C G T T T C G C C G T A A G A C T C T C T A A C C T T T T T G C A C G A T T C G A A G A A A C C T T T T T C T T A A C C T T T T T T T T T T C G C G T G G T G A G T C C T T C T G T A C A G A C C G T G A A A T C G C A A T T T C A A A C C T T T T T T G A G G A G G G T G T A A A C C T T T T T A C C T T T T T C T T A G C C A A T C T C G C C G T G C A C A G T A T A A C C T T T T T A T G A G T C G C G C A A T C G T C A A C C T T T T T T T A C T A C T G A T A C A A A C C T T C T G T T C C T C T T T C A G A G G C T T G T T G T A G G T A C T G T T C C T C C T C C G A C C T G T T C C T A A G T C C G A C A A G T C T G T T C C T C C C T G C T G T T C C T T C C T G A C A A G T C C G A C C T G T T C T G T T C C T G A C A A C T G T T C C T G T C C T G T T C C T G C T T T C C G A C A A G T C C C T G T T C C T T C C T G T C C G A C A A G T C T C C T G C T C C T G C T G T T C C T T C C G A C A A G T C C G A C A A G T C C T C C T G C T C C T T C C T A C A A G C T G T T C T C C T G C T G T C C G A T C C T G C T G C T T C T C C T G C T G A C A A G T C C G A C A T C C T G C T C C T G C T T T C C T A C A A C T G T T C C T C C T C T C C T C C T G C T C C T T C C T G C T T T C C T C T G T T C C T C T G T T C C T C T G T T C C T T C C T G C T T C C T G C T T C C T G C T T C C T G C T T C C T G C T T C C T G C T T C C T G T C T C C T G T C C T G C T G C T T C C T G C T T C C T G C T T C C T G T C C T G C T T C C T G C T T C C T G C T T C C T G C T G T T A G T A G T T A G T A G T T A G T A G T T A G T A G T T A G T A G T T A G T A G T T A G T A G T T A G T A G T T A G T A G T T A G T A G T T A G T A G T T A G T A G T T A G T A G T T A G T A G T T A G T A G T T A G T A G T T A G T A G T T A G T A G T T A G T A G T T A G T A G T T A G T A G T T A G T A G T T A G T A G T T A G T A G T T A G T A G T T A G T A G T T A G T A G T T A G T A G T T A G T A G T T A G T A G T T A G T A G T T A G T A G T T A G T A G T T A G T A G T T A G T A G T T A G T A G T T A G T A G T T A G T A\n"
     ]
    }
   ],
   "source": [
    "res = reverse_komplemen(dat)\n",
    "print(*res)"
   ]
  },
  {
   "cell_type": "markdown",
   "metadata": {
    "id": "ccQL2DZ8_5WN"
   },
   "source": [
    "## 6\n",
    "Buatlah fungsi feed-forward!"
   ]
  },
  {
   "cell_type": "code",
   "execution_count": null,
   "metadata": {
    "id": "ceSLgIlo_9ga"
   },
   "outputs": [],
   "source": [
    "import math\n",
    "\n",
    "''' Fungsi aktivasi '''\n",
    "def aktivasi(x):\n",
    "    return 1/ (1+ math.exp(-x))\n",
    "\n",
    "''' \n",
    "Mendapatkan nilai W di setiap list sesuai dengan index.\n",
    "Mapping W menjadi satu dimensi\n",
    "'''\n",
    "def WTi(W, i):\n",
    "    return list(map( lambda w:w[i], W))\n",
    "\n",
    "''' \n",
    "Menampung WTi sesuai index dan membuat menjadi satu list\n",
    "'''\n",
    "def WT(W):\n",
    "    return list( map( lambda i : WTi(W, i), range(len(W[0])) ) )\n",
    "\n",
    "''' \n",
    "Nilai yang masuk ke neuron di hidden layer adalah penjumlahan antara perkalian weight dengan\n",
    "nilai yang masuk pada input neuron.\n",
    "'''\n",
    "def XW(X,W):\n",
    "    return map( lambda w: ft.reduce( lambda a,b:a+b, map( lambda xx,vw: xx*vw, X, w), 0), WT(W) )\n",
    "\n",
    "''' Mengaktivasi nilai yang didapat pada XW '''\n",
    "def input_to_hidden(X, W):\n",
    "    return list( map( lambda x:aktivasi(x) , XW(X, W) ) )\n",
    "\n",
    "''' membuat feed-forward dari fungsi yang sudah dibuat di atas, supaya modular '''\n",
    "def feed_forward(X, W, M):\n",
    "    return input_to_hidden(input_to_hidden(X, W), M)"
   ]
  },
  {
   "cell_type": "code",
   "execution_count": null,
   "metadata": {
    "colab": {
     "base_uri": "https://localhost:8080/"
    },
    "id": "TE0pyKT3DkOG",
    "outputId": "3c1d4b1b-74f4-4f1f-d646-805c9ec27964"
   },
   "outputs": [
    {
     "data": {
      "text/plain": [
       "[0.6876336740661236]"
      ]
     },
     "execution_count": 28,
     "metadata": {},
     "output_type": "execute_result"
    }
   ],
   "source": [
    "X = [ 9, 10, -4 ]\n",
    "W = [ [ 0.5, 0.4 ] , [ 0.3, 0.7 ] , [ 0.25, 0.9 ] ]\n",
    "M = [ [ 0.34 ], [0.45] ]\n",
    "\n",
    "feed_forward(X, W, M)"
   ]
  }
 ],
 "metadata": {
  "colab": {
   "collapsed_sections": [],
   "name": "Jurnal - PBF - M2 - 120450081 - Dimas Wahyu Saputro.ipynb",
   "provenance": []
  },
  "interpreter": {
   "hash": "82cf50798d82ccd576f68f869cf82e434e86e9596c1ecd247e2359a828c37642"
  },
  "kernelspec": {
   "display_name": "Python 3 (ipykernel)",
   "language": "python",
   "name": "python3"
  },
  "language_info": {
   "codemirror_mode": {
    "name": "ipython",
    "version": 3
   },
   "file_extension": ".py",
   "mimetype": "text/x-python",
   "name": "python",
   "nbconvert_exporter": "python",
   "pygments_lexer": "ipython3",
   "version": "3.9.7"
  }
 },
 "nbformat": 4,
 "nbformat_minor": 1
}
