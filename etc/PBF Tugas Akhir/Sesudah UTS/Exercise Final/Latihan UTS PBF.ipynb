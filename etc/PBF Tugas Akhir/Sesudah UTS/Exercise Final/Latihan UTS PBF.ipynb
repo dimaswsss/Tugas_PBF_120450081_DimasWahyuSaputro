{
 "cells": [
  {
   "cell_type": "markdown",
   "metadata": {
    "id": "Uk0ThT0xr8qZ"
   },
   "source": [
    "# Latihan UAS"
   ]
  },
  {
   "cell_type": "markdown",
   "metadata": {
    "id": "xYLMR1eWr-fj"
   },
   "source": [
    "Buatlah fungsi untuk membangkitkan matriks w, m, h secara random dengan batas bawah -1 dan batas atas 1."
   ]
  },
  {
   "cell_type": "code",
   "execution_count": 6,
   "metadata": {
    "id": "YqpBHwv6sKly"
   },
   "outputs": [],
   "source": [
    "import numpy as np\n",
    "\n",
    "gen_rand = lambda a, b, c: np.random.uniform(low = a, high = b, size = c)\n",
    "W = gen_rand(-1, 1, (3,2))\n",
    "M = gen_rand(-1, 1, (2,2))\n",
    "H = gen_rand(-1, 1, (1,1))"
   ]
  },
  {
   "cell_type": "markdown",
   "metadata": {
    "id": "cP5_hoZwsLji"
   },
   "source": [
    "Fungsi aktivasi untuk forward propagation"
   ]
  },
  {
   "cell_type": "code",
   "execution_count": 4,
   "metadata": {
    "id": "cg8AFW0hsSjF"
   },
   "outputs": [],
   "source": [
    "# code\n",
    "import math\n",
    "import functools as ft\n",
    "\n",
    "''' Fungsi aktivasi '''\n",
    "def aktivasi(x):\n",
    "    return (math.exp(x)-math.exp(-x))/(math.exp(x)+math.exp(-x))\n",
    "\n",
    "''' \n",
    "Mendapatkan nilai W di setiap list sesuai dengan index.\n",
    "Mapping W menjadi satu dimensi\n",
    "'''\n",
    "def WTi(W, i):\n",
    "    return list(map( lambda w:w[i], W))\n",
    "\n",
    "''' \n",
    "Menampung WTi sesuai index dan membuat menjadi satu list\n",
    "'''\n",
    "def WT(W):\n",
    "    return list( map( lambda i : WTi(W, i), range(len(W[0])) ) )\n",
    "\n",
    "''' \n",
    "Nilai yang masuk ke neuron di hidden layer adalah penjumlahan antara perkalian weight dengan\n",
    "nilai yang masuk pada input neuron.\n",
    "'''\n",
    "def XW(X,W):\n",
    "    return map( lambda w: ft.reduce( lambda a,b:a+b, map( lambda xx,vw: xx*vw, X, w), 0), WT(W) )\n",
    "\n",
    "''' Mengaktivasi nilai yang didapat pada XW '''\n",
    "def input_to_hidden(X, W):\n",
    "    return list( map( lambda x:aktivasi(x) , XW(X, W) ) )\n",
    "\n",
    "''' membuat feed-forward dari fungsi yang sudah dibuat di atas, supaya modular '''\n",
    "@calc_time_decorator\n",
    "def feed_forward(X, W, M, H):\n",
    "    return input_to_hidden(input_to_hidden(input_to_hidden(X, W), M), H)"
   ]
  },
  {
   "cell_type": "code",
   "execution_count": 5,
   "metadata": {
    "colab": {
     "base_uri": "https://localhost:8080/"
    },
    "id": "NvzmPU3KtIGG",
    "outputId": "0569e8e9-f541-469f-8dd1-9914fdab739f"
   },
   "outputs": [
    {
     "name": "stdout",
     "output_type": "stream",
     "text": [
      "Time:  0.00011444091796875\n",
      "Output: [-0.31466743954210885]\n"
     ]
    }
   ],
   "source": [
    "X = [ 0, 8, 1]\n",
    "forw_prop = feed_forward(X, W, M, H)\n",
    "print(f'Output: {forw_prop}')"
   ]
  },
  {
   "cell_type": "markdown",
   "metadata": {
    "id": "iBL0jornsTOm"
   },
   "source": [
    "Buatlah decorator untuk menambahkan perhitungan running time"
   ]
  },
  {
   "cell_type": "code",
   "execution_count": 3,
   "metadata": {
    "id": "d0eJVHBksjrl"
   },
   "outputs": [],
   "source": [
    "import time\n",
    "\n",
    "def calc_time_decorator(func):\n",
    "    def inner(*args, **kwargs):\n",
    "        start = time.time()\n",
    "        res = func(*args, **kwargs)\n",
    "        end = time.time()\n",
    "        print('Time: ', end - start)\n",
    "        return res\n",
    "    return inner"
   ]
  },
  {
   "cell_type": "code",
   "execution_count": null,
   "metadata": {
    "id": "uzoBq75ksnGK"
   },
   "outputs": [],
   "source": [
    "@calc_time_decorator"
   ]
  },
  {
   "cell_type": "markdown",
   "metadata": {
    "id": "UwNfHEOe3-cu"
   },
   "source": [
    "# Jurnal - Abaikan saja"
   ]
  },
  {
   "cell_type": "code",
   "execution_count": null,
   "metadata": {
    "id": "qnyRxqV0refH"
   },
   "outputs": [],
   "source": [
    "import math\n",
    "import functools as ft\n",
    "\n",
    "''' Fungsi aktivasi '''\n",
    "def aktivasi(x):\n",
    "    return 1/ (1+ math.exp(-x))\n",
    "\n",
    "''' \n",
    "Mendapatkan nilai W di setiap list sesuai dengan index.\n",
    "Mapping W menjadi satu dimensi\n",
    "'''\n",
    "def WTi(W, i):\n",
    "    return list(map( lambda w:w[i], W))\n",
    "\n",
    "''' \n",
    "Menampung WTi sesuai index dan membuat menjadi satu list\n",
    "'''\n",
    "def WT(W):\n",
    "    return list( map( lambda i : WTi(W, i), range(len(W[0])) ) )\n",
    "\n",
    "''' \n",
    "Nilai yang masuk ke neuron di hidden layer adalah penjumlahan antara perkalian weight dengan\n",
    "nilai yang masuk pada input neuron.\n",
    "'''\n",
    "def XW(X,W):\n",
    "    return map( lambda w: ft.reduce( lambda a,b:a+b, map( lambda xx,vw: xx*vw, X, w), 0), WT(W) )\n",
    "\n",
    "''' Mengaktivasi nilai yang didapat pada XW '''\n",
    "def input_to_hidden(X, W):\n",
    "    return list( map( lambda x:aktivasi(x) , XW(X, W) ) )\n",
    "\n",
    "''' membuat feed-forward dari fungsi yang sudah dibuat di atas, supaya modular '''\n",
    "def feed_forward(X, W, M):\n",
    "    return input_to_hidden(input_to_hidden(X, W), M)"
   ]
  },
  {
   "cell_type": "code",
   "execution_count": null,
   "metadata": {
    "colab": {
     "base_uri": "https://localhost:8080/"
    },
    "id": "hNq950_HrhIV",
    "outputId": "e5f9f7e8-11c0-41fe-c63a-e4c4b453c94d"
   },
   "outputs": [
    {
     "data": {
      "text/plain": [
       "[0.6876336740661236]"
      ]
     },
     "execution_count": 89,
     "metadata": {},
     "output_type": "execute_result"
    }
   ],
   "source": [
    "X = [ 9, 10, -4 ]\n",
    "W = [ [ 0.5, 0.4 ] , [ 0.3, 0.7 ] , [ 0.25, 0.9 ] ]\n",
    "M = [ [ 0.34 ], [0.45] ]\n",
    "\n",
    "feed_forward(X, W, M)"
   ]
  },
  {
   "cell_type": "code",
   "execution_count": null,
   "metadata": {
    "colab": {
     "base_uri": "https://localhost:8080/"
    },
    "id": "7RNEzf2arzMb",
    "outputId": "bb0eb105-0a08-42ad-e84b-9e1a73c29979"
   },
   "outputs": [
    {
     "name": "stdout",
     "output_type": "stream",
     "text": [
      "1\n",
      "[6.5, 7.0]\n",
      "[0.998498817743263, 0.9990889488055994]\n",
      "2\n",
      "[0.7989760935133112, 1.0987617912612246]\n",
      "[0.6876336740661236]\n"
     ]
    }
   ],
   "source": [
    "input_to_hidden(X, W)\n",
    "\n",
    "print('1')\n",
    "print(list(XW(X,W)))\n",
    "print(input_to_hidden(X,W))\n",
    "\n",
    "print('2')\n",
    "print(list(XW(input_to_hidden(X,W),W)))\n",
    "print(input_to_hidden(input_to_hidden(X, W), M))\n"
   ]
  }
 ],
 "metadata": {
  "colab": {
   "collapsed_sections": [
    "UwNfHEOe3-cu"
   ],
   "name": "Latihan UAS PBF - Dimas Wahyu Saputro - 120450081.ipynb",
   "provenance": []
  },
  "kernelspec": {
   "display_name": "Python 3 (ipykernel)",
   "language": "python",
   "name": "python3"
  },
  "language_info": {
   "name": "python"
  }
 },
 "nbformat": 4,
 "nbformat_minor": 1
}
