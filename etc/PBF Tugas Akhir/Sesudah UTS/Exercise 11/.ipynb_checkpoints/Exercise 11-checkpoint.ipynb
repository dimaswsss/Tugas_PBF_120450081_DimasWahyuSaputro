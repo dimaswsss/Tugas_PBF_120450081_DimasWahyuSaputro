{
 "cells": [
  {
   "cell_type": "markdown",
   "metadata": {},
   "source": [
    "Buat sebuah program untuk membuat deret fibonacci dari 0 hingga N dengan\n",
    "menggunakan fungsi non-rekursif dan rekursif!\n",
    "\n",
    "Bandingkan keduanya jika nilai N = 500, Manakah yang lebih baik? Jelaskan!"
   ]
  },
  {
   "cell_type": "markdown",
   "metadata": {},
   "source": [
    "## without recursion"
   ]
  },
  {
   "cell_type": "code",
   "execution_count": 5,
   "metadata": {},
   "outputs": [
    {
     "name": "stdout",
     "output_type": "stream",
     "text": [
      "[0, 1, 1, 2, 3, 5, 8, 13, 21, 34, 55, 89, 144, 233, 377, 610, 987, 1597, 2584, 4181, 6765, 10946, 17711, 28657, 46368, 75025, 121393, 196418, 317811, 514229, 832040, 1346269, 2178309, 3524578, 5702887, 9227465, 14930352, 24157817, 39088169, 63245986, 102334155, 165580141, 267914296, 433494437, 701408733, 1134903170, 1836311903, 2971215073, 4807526976, 7778742049, 12586269025]\n"
     ]
    }
   ],
   "source": [
    "# create a function to list fibonacci sequence up to n but without recursion\n",
    "def fibonacci(n):\n",
    "    sequence = [0,1]\n",
    "    for i in range(2,n+1):\n",
    "        next_num = sequence[-1] + sequence[-2]\n",
    "        sequence.append(next_num)\n",
    "    return sequence\n",
    "print(fibonacci(50))"
   ]
  },
  {
   "cell_type": "code",
   "execution_count": 8,
   "metadata": {},
   "outputs": [
    {
     "name": "stdout",
     "output_type": "stream",
     "text": [
      "[0, 1, 1, 2, 3, 5, 8, 13, 21, 34, 55, 89, 144, 233, 377, 610, 987, 1597, 2584, 4181, 6765, 10946, 17711, 28657, 46368, 75025, 121393, 196418, 317811, 514229, 832040, 1346269, 2178309, 3524578, 5702887, 9227465, 14930352, 24157817, 39088169, 63245986, 102334155, 165580141, 267914296, 433494437, 701408733, 1134903170, 1836311903, 2971215073, 4807526976, 7778742049]\n"
     ]
    }
   ],
   "source": [
    "def fibonacci(count):\n",
    "\tfib_list = [0, 1]\n",
    "\tany(map(lambda _: fib_list.append(sum(fib_list[-2:])), range(2, count)))\n",
    "\treturn fib_list[:count]\n",
    "print(fibonacci(50))\n"
   ]
  },
  {
   "cell_type": "markdown",
   "metadata": {},
   "source": [
    "## with recursion"
   ]
  },
  {
   "cell_type": "code",
   "execution_count": 13,
   "metadata": {},
   "outputs": [
    {
     "name": "stdout",
     "output_type": "stream",
     "text": [
      "0 1 1 2 3 5 8 13 21 34 55 89 144 233 377 610 987 1597 2584 4181 6765 10946 17711 28657 46368 75025 121393 196418 317811 514229 "
     ]
    }
   ],
   "source": [
    "# create a function to list fibonacci sequence up to n but wih recursion\n",
    "def fibonacci_rec(n):\n",
    "    if n == 0:\n",
    "        return 0\n",
    "    elif n == 1:\n",
    "        return 1\n",
    "    else:\n",
    "        return fibonacci_rec(n-1) + fibonacci_rec(n-2)\n",
    "\n",
    "for i in range(30):\n",
    "    print(fibonacci_rec(i), end=' ')"
   ]
  },
  {
   "cell_type": "code",
   "execution_count": 14,
   "metadata": {},
   "outputs": [
    {
     "name": "stdout",
     "output_type": "stream",
     "text": [
      "[0, 1, 1, 2, 3, 5, 8, 13, 21, 34, 55, 89, 144, 233, 377, 610, 987, 1597, 2584, 4181, 6765, 10946, 17711, 28657, 46368, 75025, 121393, 196418, 317811, 514229]\n"
     ]
    }
   ],
   "source": [
    "# create a function to list fibonacci sequence up to n but wih recursion lambda version\n",
    "fibonacci_rec = lambda n: 0 if n == 0 else 1 if n == 1 else fibonacci_rec(n-1) + fibonacci_rec(n-2)\n",
    "deret_fibo_rec = lambda n: list(map(lambda x: fibonacci_rec(x), range(n)))\n",
    "print(deret_fibo_rec(30))"
   ]
  },
  {
   "cell_type": "markdown",
   "metadata": {},
   "source": [
    "## Penjelasan"
   ]
  },
  {
   "cell_type": "markdown",
   "metadata": {},
   "source": [
    "Whenever you are looking for time taken to complete a particular algorithm, it's best you always go for time complexity.\n",
    "\n",
    "Evaluate the time complexity on the paper in terms of O(something). \n",
    "\n",
    "Comparing the above two approaches, time complexity of iterative approach is O(n) whereas that of recursive approach is O(2^n).\n",
    "\n",
    "Let's try to find the time complexity of fib(4)\n",
    "\n",
    "Iterative approach, the loop evaluates 4 times, so it's time complexity is O(n).\n",
    "\n",
    "Recursive approach,\n",
    "\n",
    "                               fib(4)\n",
    "\n",
    "             fib(3)              +               fib(2)\n",
    "\n",
    "      fib(2)   +    fib(1)           fib(1)     +       fib(0)\n",
    "\n",
    "fib(1)  +  fib(0)\n",
    "\n",
    "so fib() is called 9 times which is slightly lower than 2^n when the value of n is large, even small also(remember that BigOh(O) takes care of upper bound) .\n",
    "\n",
    "As a result we can say that the iterative approach is evaluating in polynomial time, whereas recursive one is evaluating in exponential time"
   ]
  },
  {
   "cell_type": "markdown",
   "metadata": {},
   "source": [
    "Why is Recursion slower?\n",
    "\n",
    "When you call your function again itself (as recursion) the compiler allocates new Activation Record (Just think as an ordinary Stack) for that new function. That stack is used to keep your states, variables, and addresses. Compiler creates a stack for each function and this creation process continues until the base case is reached. So, when the data size becomes larger, compiler needs large stack segment to calculate the whole process. Calculating and managing those Records is also counted during this process.\n",
    "\n",
    "Also, in recursion, the stack segment is being raised during run-time. Compiler does not know how much memory will be occupied during compile time."
   ]
  },
  {
   "cell_type": "markdown",
   "metadata": {},
   "source": [
    "Referensi:\n",
    "1. [https://matrixread.com/fibonacci-series-iterative-vs-recursive/](https://matrixread.com/fibonacci-series-iterative-vs-recursive/)\n",
    "2. [https://www.codeproject.com/Articles/21194/Iterative-vs-Recursive-Approaches](https://www.codeproject.com/Articles/21194/Iterative-vs-Recursive-Approaches)\n",
    "3. [https://stackoverflow.com/questions/21710756/recursion-vs-iteration-fibonacci-sequence](https://stackoverflow.com/questions/21710756/recursion-vs-iteration-fibonacci-sequence)\n",
    "4. [https://syedtousifahmed.medium.com/fibonacci-iterative-vs-recursive-5182d7783055](https://syedtousifahmed.medium.com/fibonacci-iterative-vs-recursive-5182d7783055)\n",
    "5. [https://www.fayewilliams.com/2015/05/12/fibonacci-recursively-or-not/](https://www.fayewilliams.com/2015/05/12/fibonacci-recursively-or-not/)"
   ]
  },
  {
   "cell_type": "markdown",
   "metadata": {},
   "source": []
  }
 ],
 "metadata": {
  "interpreter": {
   "hash": "82cf50798d82ccd576f68f869cf82e434e86e9596c1ecd247e2359a828c37642"
  },
  "kernelspec": {
   "display_name": "Python 3 (ipykernel)",
   "language": "python",
   "name": "python3"
  },
  "language_info": {
   "codemirror_mode": {
    "name": "ipython",
    "version": 3
   },
   "file_extension": ".py",
   "mimetype": "text/x-python",
   "name": "python",
   "nbconvert_exporter": "python",
   "pygments_lexer": "ipython3",
   "version": "3.9.7"
  }
 },
 "nbformat": 4,
 "nbformat_minor": 2
}
