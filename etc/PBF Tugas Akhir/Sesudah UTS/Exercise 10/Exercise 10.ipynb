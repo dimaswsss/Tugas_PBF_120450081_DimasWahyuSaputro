{
 "cells": [
  {
   "cell_type": "markdown",
   "metadata": {},
   "source": [
    "# 1\n",
    "Buat fungsi mencari jumlah bilangan genap dari list L.\n",
    "\n",
    "Contoh:\n",
    "\n",
    "L = [2,1,9,10,3,90,15]\n",
    "-> 3"
   ]
  },
  {
   "cell_type": "code",
   "execution_count": 7,
   "metadata": {},
   "outputs": [
    {
     "name": "stdout",
     "output_type": "stream",
     "text": [
      "3\n"
     ]
    }
   ],
   "source": [
    "import functools as ft\n",
    "L = [2,1,9,10,3,90,15]\n",
    "\n",
    "# function count the even numbers from a list L using reduce without for\n",
    "def even_count(L):\n",
    "    return ft.reduce(lambda x,y: x+1 if y%2==0 else x, L, 0)\n",
    "\n",
    "print(even_count(L))"
   ]
  },
  {
   "cell_type": "markdown",
   "metadata": {},
   "source": [
    "# 2\n",
    "Buat fungsi untuk menghitung n! menggunakan reduce"
   ]
  },
  {
   "cell_type": "code",
   "execution_count": 15,
   "metadata": {},
   "outputs": [
    {
     "name": "stdout",
     "output_type": "stream",
     "text": [
      "120\n"
     ]
    }
   ],
   "source": [
    "facto = lambda n: ft.reduce( lambda a, b: a*b if b > 1 else 1, range(1,n+1), 1)\n",
    "print(facto(5))"
   ]
  },
  {
   "cell_type": "code",
   "execution_count": 18,
   "metadata": {},
   "outputs": [
    {
     "name": "stdout",
     "output_type": "stream",
     "text": [
      "0! = 1\n",
      "1! = 1\n",
      "2! = 2\n",
      "3! = 6\n",
      "4! = 24\n",
      "5! = 120\n",
      "6! = 720\n",
      "7! = 5040\n",
      "8! = 40320\n",
      "9! = 362880\n",
      "10! = 3628800\n"
     ]
    }
   ],
   "source": [
    "n = 10\n",
    "for i in range(0, n+1):\n",
    "    print( str(i) + '! = ' + str(facto(i)) )"
   ]
  },
  {
   "cell_type": "markdown",
   "metadata": {},
   "source": [
    "# 3\n",
    "Hitung euclidian distance dari dua vektor berikut menggunakan higher order\n",
    "function!\n",
    "\n",
    "X = [2,5,6,7,10]\n",
    "\n",
    "Y = [-2,9,2,-1,10]"
   ]
  },
  {
   "cell_type": "code",
   "execution_count": 23,
   "metadata": {},
   "outputs": [
    {
     "name": "stdout",
     "output_type": "stream",
     "text": [
      "10.583005244258363\n"
     ]
    }
   ],
   "source": [
    "X = [2,5,6,7,10]\n",
    "Y = [-2,9,2,-1,10]\n",
    "\n",
    "euclid = lambda X, Y: ft.reduce( lambda a,c: a + c, map(lambda x,y: (x-y)**2, X, Y) )**0.5 \n",
    "print(euclid(X,Y))"
   ]
  },
  {
   "cell_type": "markdown",
   "metadata": {},
   "source": [
    "## 4\n",
    "\n",
    "```\n",
    "employee = {\n",
    "    'Nagao':35,\n",
    "    'Ishii':30,\n",
    "    'Kazutomo':20,\n",
    "    'Saito':25,\n",
    "    'Hidemi':29\n",
    "}\n",
    "```\n",
    "\n",
    "Terdapat dictionary employee berisi nama dan umur pegawai, lakukan filter untuk mengetahui pegawai yang berumur > 25 tahun!"
   ]
  },
  {
   "cell_type": "code",
   "execution_count": 27,
   "metadata": {},
   "outputs": [
    {
     "data": {
      "text/plain": [
       "3"
      ]
     },
     "execution_count": 27,
     "metadata": {},
     "output_type": "execute_result"
    }
   ],
   "source": [
    "employee = {\n",
    "    'Nagao':35,\n",
    "    'Ishii':30,\n",
    "    'Kazutomo':20,\n",
    "    'Saito':25,\n",
    "    'Hidemi':29\n",
    "}\n",
    "\n",
    "cnt_emp = lambda lim, employee: ft.reduce(lambda x,y: x+1 if y[1]> lim else x, employee.items(), 0)\n",
    "cnt_emp(25, employee)"
   ]
  },
  {
   "cell_type": "markdown",
   "metadata": {},
   "source": [
    "# 5\n",
    "Buatlah deret fibonacci menggunakan higher order function!"
   ]
  },
  {
   "cell_type": "code",
   "execution_count": 32,
   "metadata": {},
   "outputs": [],
   "source": [
    "fibo = lambda n: ft.reduce( lambda a, b: a if b[0] <= 1 else a + [ a[ b[0]-1 ] + a[ b[0]-2 ] ] ,\n",
    "                    enumerate( [0,1] + list(range(1, n))) , [0,1] ) if n > 0 else [0]"
   ]
  },
  {
   "cell_type": "code",
   "execution_count": 34,
   "metadata": {},
   "outputs": [
    {
     "name": "stdout",
     "output_type": "stream",
     "text": [
      "Fibonacci of 0 = [0]\n",
      "Fibonacci of 1 = [0, 1]\n",
      "Fibonacci of 2 = [0, 1, 1]\n",
      "Fibonacci of 3 = [0, 1, 1, 2]\n",
      "Fibonacci of 4 = [0, 1, 1, 2, 3]\n",
      "Fibonacci of 5 = [0, 1, 1, 2, 3, 5]\n",
      "Fibonacci of 6 = [0, 1, 1, 2, 3, 5, 8]\n",
      "Fibonacci of 7 = [0, 1, 1, 2, 3, 5, 8, 13]\n",
      "Fibonacci of 8 = [0, 1, 1, 2, 3, 5, 8, 13, 21]\n",
      "Fibonacci of 9 = [0, 1, 1, 2, 3, 5, 8, 13, 21, 34]\n"
     ]
    }
   ],
   "source": [
    "for i in range(10):\n",
    "    print('Fibonacci of ' + str(i) + ' = ' + str(fibo(i)))"
   ]
  },
  {
   "cell_type": "code",
   "execution_count": 36,
   "metadata": {},
   "outputs": [
    {
     "data": {
      "text/plain": [
       "[0, 1, 1, 2, 3, 5, 8, 13, 21, 34, 55]"
      ]
     },
     "execution_count": 36,
     "metadata": {},
     "output_type": "execute_result"
    }
   ],
   "source": [
    "# Recursive fibonacci using lambda\n",
    "fibo_rec = lambda n: 0 if n == 0 else 1 if (n == 1 or n == 2) else fibo_rec(n-1) + fibo_rec(n-2) \n",
    "deret_fibo = lambda n: list( map( lambda x: fibo_rec(x), range(n+1) ) )\n",
    "deret_fibo(10)"
   ]
  }
 ],
 "metadata": {
  "interpreter": {
   "hash": "82cf50798d82ccd576f68f869cf82e434e86e9596c1ecd247e2359a828c37642"
  },
  "kernelspec": {
   "display_name": "Python 3 (ipykernel)",
   "language": "python",
   "name": "python3"
  },
  "language_info": {
   "codemirror_mode": {
    "name": "ipython",
    "version": 3
   },
   "file_extension": ".py",
   "mimetype": "text/x-python",
   "name": "python",
   "nbconvert_exporter": "python",
   "pygments_lexer": "ipython3",
   "version": "3.9.7"
  }
 },
 "nbformat": 4,
 "nbformat_minor": 2
}
