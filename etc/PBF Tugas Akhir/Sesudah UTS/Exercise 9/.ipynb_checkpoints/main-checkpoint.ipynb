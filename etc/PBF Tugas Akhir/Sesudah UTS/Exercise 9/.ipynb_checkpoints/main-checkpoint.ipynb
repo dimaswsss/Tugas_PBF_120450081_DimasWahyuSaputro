{
 "cells": [
  {
   "cell_type": "markdown",
   "metadata": {},
   "source": [
    "## 1\n",
    "\n",
    "Buat program untuk menghitung deret bilangan prima dari 2 hingga N menggunakan HOF filter dan map.\n",
    "\n",
    "Contoh **primes(100)**:\n",
    "\n",
    "2 3 5 7 11 13 17 .... 83 89 97"
   ]
  },
  {
   "cell_type": "code",
   "execution_count": 1,
   "metadata": {},
   "outputs": [
    {
     "name": "stdout",
     "output_type": "stream",
     "text": [
      "2 3 5 7 11 13 17 19 23 29 31 37 41 43 47 53 59 61 67 71 73 79 83 89 97\n"
     ]
    }
   ],
   "source": [
    "factor = lambda n: list(filter( lambda i: n % i == 0, range(1, n+1)))\n",
    "primes = lambda n: list(filter( lambda i: len(factor(i)) == 2, range(1, n+1)))\n",
    "\n",
    "print( *primes(100) )"
   ]
  },
  {
   "cell_type": "markdown",
   "metadata": {},
   "source": [
    "## 2\n",
    "\n",
    "```\n",
    "employee = {\n",
    "    'Nagao':35,\n",
    "    'Ishii':30,\n",
    "    'Kazutomo':20,\n",
    "    'Saito':25,\n",
    "    'Hidemi':29\n",
    "}\n",
    "```\n",
    "\n",
    "Terdapat dictionary employee berisi nama dan umur pegawai, lakukan filter untuk mengetahui pegawai yang berumur > 25 tahun!"
   ]
  },
  {
   "cell_type": "code",
   "execution_count": 2,
   "metadata": {},
   "outputs": [
    {
     "name": "stdout",
     "output_type": "stream",
     "text": [
      "dict_items([('Nagao', 35), ('Ishii', 30), ('Kazutomo', 20), ('Saito', 25), ('Hidemi', 29)])\n"
     ]
    }
   ],
   "source": [
    "employee = {\n",
    "    'Nagao':35,\n",
    "    'Ishii':30,\n",
    "    'Kazutomo':20,\n",
    "    'Saito':25,\n",
    "    'Hidemi':29\n",
    "}\n",
    "\n",
    "print( employee.items() )"
   ]
  },
  {
   "cell_type": "code",
   "execution_count": 3,
   "metadata": {},
   "outputs": [
    {
     "name": "stdout",
     "output_type": "stream",
     "text": [
      "('Nagao', 35) ('Ishii', 30) ('Hidemi', 29)\n"
     ]
    }
   ],
   "source": [
    "print( *filter( lambda x: x[1] > 25, employee.items() ))"
   ]
  },
  {
   "cell_type": "code",
   "execution_count": 4,
   "metadata": {},
   "outputs": [
    {
     "name": "stdout",
     "output_type": "stream",
     "text": [
      "Nagao Ishii Hidemi\n"
     ]
    }
   ],
   "source": [
    "filter_by_age = lambda age, employee: list( filter(lambda x: x[1] > 25, employee.items() ) )\n",
    "print(*map( lambda x: x[0], filter_by_age(25, employee)))"
   ]
  }
 ],
 "metadata": {
  "interpreter": {
   "hash": "82cf50798d82ccd576f68f869cf82e434e86e9596c1ecd247e2359a828c37642"
  },
  "kernelspec": {
   "display_name": "Python 3 (ipykernel)",
   "language": "python",
   "name": "python3"
  },
  "language_info": {
   "codemirror_mode": {
    "name": "ipython",
    "version": 3
   },
   "file_extension": ".py",
   "mimetype": "text/x-python",
   "name": "python",
   "nbconvert_exporter": "python",
   "pygments_lexer": "ipython3",
   "version": "3.9.7"
  }
 },
 "nbformat": 4,
 "nbformat_minor": 2
}
