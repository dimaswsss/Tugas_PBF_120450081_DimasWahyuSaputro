{
 "cells": [
  {
   "cell_type": "markdown",
   "metadata": {},
   "source": [
    "# 1\n",
    " \n",
    "Addku = lambda x: x + 10\n",
    "\n",
    "Powku = lambda x: x**2\n",
    "\n",
    "Kurku = lambda x: x - 2 * x\n",
    "\n",
    "A. Buatlah fungsi komposisi menggunakan 3 fungsi diatas yang melakukan hal sebagai berikut secara\n",
    "berurut:\n",
    "1. Menjumlahkan input dengan nilai 10\n",
    "2. Mengurangi input dengan 2 kali input nya\n",
    "3. Mengeluarkan nilai kuadrat dari input nya\n",
    "\n",
    "B. Buatlah fungsi invers nya!\n",
    "\n"
   ]
  },
  {
   "cell_type": "code",
   "execution_count": 1,
   "metadata": {},
   "outputs": [
    {
     "data": {
      "text/plain": [
       "-400"
      ]
     },
     "execution_count": 1,
     "metadata": {},
     "output_type": "execute_result"
    }
   ],
   "source": [
    "addku = lambda x: x + 10\n",
    "powku = lambda x: x**2\n",
    "kurku = lambda x: x - 2 * x\n",
    "\n",
    "f_komp = lambda f,g: lambda x: f(g(x))\n",
    "\n",
    "my_f_kom = f_komp(kurku, f_komp(powku, addku))\n",
    "\n",
    "my_f_kom(10)\n"
   ]
  },
  {
   "cell_type": "code",
   "execution_count": 3,
   "metadata": {},
   "outputs": [
    {
     "data": {
      "text/plain": [
       "10.0"
      ]
     },
     "execution_count": 3,
     "metadata": {},
     "output_type": "execute_result"
    }
   ],
   "source": [
    "# invers\n",
    "inv_addku = lambda x: x - 10\n",
    "inv_powku = lambda x: x**0.5\n",
    "inv_kurku = lambda x: -1 * x\n",
    "\n",
    "my_f_kom_inv = f_komp(inv_addku, f_komp(inv_powku, inv_kurku))\n",
    "my_f_kom_inv(-400)"
   ]
  },
  {
   "cell_type": "markdown",
   "metadata": {},
   "source": [
    "# 2\n",
    "## IPK"
   ]
  },
  {
   "cell_type": "code",
   "execution_count": 9,
   "metadata": {},
   "outputs": [],
   "source": [
    "from functools import reduce as r\n",
    "\n",
    "# Define function composition\n",
    "mycompose = lambda *funcs: r( lambda f, g: lambda x: f(g(x)), reversed(funcs), lambda x:x )"
   ]
  },
  {
   "cell_type": "code",
   "execution_count": 10,
   "metadata": {},
   "outputs": [],
   "source": [
    "# Ketentuan jumlah tanggungan\n",
    "def skor1(jtg):\n",
    "    return 1 if jtg >= 5 else 5-jtg"
   ]
  },
  {
   "cell_type": "code",
   "execution_count": 11,
   "metadata": {},
   "outputs": [],
   "source": [
    "# Ketentuan token listrik\n",
    "def skor2(X):\n",
    "    def rata(X):\n",
    "        return sum(X)/len(X)\n",
    "\n",
    "    def l_cond_1(X):\n",
    "        return [X, [X>100000] ]\n",
    "    \n",
    "    def l_cond_2(X):\n",
    "        return [X[0], X[1] + [ X[0] >= 50000 ] ]\n",
    "\n",
    "    def to_score2(X):\n",
    "        return r( lambda a,b: a+ (1 if b == True else 0), X[1], 1)\n",
    "    \n",
    "    compose_cond = mycompose(rata, l_cond_1, l_cond_2, to_score2)\n",
    "    return compose_cond(X)\n",
    "\n",
    "# skor2([50000, 50000, 50000])"
   ]
  },
  {
   "cell_type": "code",
   "execution_count": 12,
   "metadata": {},
   "outputs": [],
   "source": [
    "# Ketentuan gaji\n",
    "\n",
    "def con_1(X):\n",
    "    return [X[0], 1, X[2], [ X[0] > X[2][X[1]] ] ]\n",
    "\n",
    "def con_2_to_n(X):\n",
    "    return [X[0], X[1]+1, X[2], X[3] + [ X[0] > X[2][X[1]] ] ]\n",
    "\n",
    "def to_score(X):\n",
    "    return r( lambda a,b: a+ (1 if b == True else 0), X[-1], 2)\n",
    "\n",
    "def prep(gj):\n",
    "    return [gj, 0, list(map( lambda x: x*1000000, list(range(10,3,-1)) + [3]) )]\n",
    "\n",
    "def skor3(gaji):\n",
    "    commpy = mycompose(prep, con_1, *(con_2_to_n for i in range(4)), to_score)\n",
    "    return commpy(gaji)"
   ]
  },
  {
   "cell_type": "code",
   "execution_count": 13,
   "metadata": {},
   "outputs": [],
   "source": [
    "# Ketentuan KIP K\n",
    "def skor4(X=True):\n",
    "    return 1 if X else 5"
   ]
  },
  {
   "cell_type": "code",
   "execution_count": 14,
   "metadata": {},
   "outputs": [],
   "source": [
    "def combineskor(X):\n",
    "    return X + [map( lambda f,x: f(x), X[1], X[0] )]\n",
    "\n",
    "def boboti(X):\n",
    "    return r( lambda a,b: a+b, map(lambda x,y: x*y, X[-1], [0.2, 0.3, 0.2, 0.3]) )\n",
    "\n",
    "def toUKT(X):\n",
    "    return 750000 + X*500000"
   ]
  },
  {
   "cell_type": "code",
   "execution_count": 15,
   "metadata": {},
   "outputs": [
    {
     "data": {
      "text/plain": [
       "2200000.0"
      ]
     },
     "execution_count": 15,
     "metadata": {},
     "output_type": "execute_result"
    }
   ],
   "source": [
    "mhs = [3,\n",
    "    [120000, 75000, 50000],\n",
    "    5.5 * 10**6,\n",
    "    False\n",
    "]\n",
    "\n",
    "datas = [mhs, [skor1, skor2, skor3, skor4] ]\n",
    "compose_fin = mycompose(combineskor, boboti, toUKT)\n",
    "compose_fin(datas)"
   ]
  },
  {
   "cell_type": "markdown",
   "metadata": {},
   "source": [
    "# 3\n",
    "## Turunan polinom\n",
    "\n",
    "dat = '-3x^5 + 2x^2 -4x +5'\n",
    "\n",
    "output -> '-15.0x^4 + 4.0x - 4.0'"
   ]
  },
  {
   "cell_type": "code",
   "execution_count": 16,
   "metadata": {},
   "outputs": [],
   "source": [
    "# Turnan polinom\n",
    "\n",
    "def split(dat):\n",
    "    return dat.replace(' ', '').replace('-','+-').split('+')\n",
    "\n",
    "def chdepan(dat):\n",
    "    return dat[1:] if dat[0] == '' else dat\n",
    "\n",
    "def eqkan(dat):\n",
    "    return map( lambda x: x if '^' in x else x+ '^1' if 'x' in x else x+ 'x^0', dat)\n",
    "\n",
    "def toarr2d(dat):\n",
    "    return r( lambda a, b: a + [[float(hurf) for hurf in b.split('x^')]] , dat, [])\n",
    "\n",
    "def sortdesc(dat):\n",
    "    return sorted(dat, key=lambda x: x[1], reverse=True)\n",
    "\n",
    "def calctur(dat):\n",
    "    return map( lambda x: [0,0] if x[1] == 0 else [x[1]*x[0], x[1]-1], dat)\n",
    "\n",
    "def tostr(dat):\n",
    "    return map( lambda x: '0' if x[0] == 0 else str(x[0]) if x[1]==0 else str(x[0]) + 'x^' + str(x[1]), dat)\n",
    "\n",
    "def prettykan(dat):\n",
    "    return r( lambda a,b: a+'+' + b if b != '0' else a, dat, '')\n",
    "\n",
    "def prettysign(dat):\n",
    "    return dat.replace('+-', ' -').replace('+', '+ ')"
   ]
  },
  {
   "cell_type": "code",
   "execution_count": 20,
   "metadata": {},
   "outputs": [
    {
     "data": {
      "text/plain": [
       "' -15.0x^4.0+ 4.0x^1.0 -4.0'"
      ]
     },
     "execution_count": 20,
     "metadata": {},
     "output_type": "execute_result"
    }
   ],
   "source": [
    "dat = '-3x^5 + 2x^2 -4x +5'\n",
    "fss = (split, chdepan, eqkan, toarr2d, sortdesc, calctur, tostr, prettykan, prettysign)\n",
    "my_turunan = mycompose(*fss)\n",
    "my_turunan(dat)"
   ]
  },
  {
   "cell_type": "markdown",
   "metadata": {},
   "source": [
    "# 4\n",
    "Buatlah fungsi untuk menghitung biaya yang harus dibayar customer pada suatu\n",
    "e-commerce menggunakan higher order function. Buatlah decorator untuk\n",
    "mengeluarkan harga sebelum pajak dan sesudah pajak (pajak = 11%) ! Gunakan\n",
    "decorator untuk menambahkan perhitungan waktu eksekusi!"
   ]
  },
  {
   "cell_type": "code",
   "execution_count": 4,
   "metadata": {},
   "outputs": [],
   "source": [
    "from functools import reduce as r\n",
    "keranjang = [\n",
    "    {'Jumlah_Barang': 5, 'Harga:': 10 },\n",
    "    {'Jumlah_Barang': 7, 'Harga:': 20 },\n",
    "    {'Jumlah_Barang': 20, 'Harga:': 4.5 }\n",
    "]\n",
    "\n",
    "def pajak_decorator(func):\n",
    "    def inner(*args, **kwargs):\n",
    "        res = func(*args, **kwargs)\n",
    "        print('Sub Total: ', res)\n",
    "        print('Pajak: ', res * 0.01)\n",
    "        print('Total: ', res + res * 0.01)\n",
    "        return res\n",
    "    return inner\n",
    "\n",
    "import time\n",
    "\n",
    "def calc_time_decorator(func):\n",
    "    def inner(*args, **kwargs):\n",
    "        start = time.time()\n",
    "        res = func(*args, **kwargs)\n",
    "        end = time.time()\n",
    "        print('Time: ', end - start)\n",
    "        return res\n",
    "    return inner"
   ]
  },
  {
   "cell_type": "code",
   "execution_count": 6,
   "metadata": {},
   "outputs": [
    {
     "name": "stdout",
     "output_type": "stream",
     "text": [
      "Sub Total:  280000.0\n",
      "Pajak:  2800.0\n",
      "Total:  282800.0\n",
      "Time:  0.0009989738464355469\n"
     ]
    },
    {
     "data": {
      "text/plain": [
       "280000.0"
      ]
     },
     "execution_count": 6,
     "metadata": {},
     "output_type": "execute_result"
    }
   ],
   "source": [
    "@calc_time_decorator\n",
    "@pajak_decorator\n",
    "def hitung_pembayaran_1(keranjang):\n",
    "    return r( lambda a,b: a + (b['Jumlah_Barang'] * b['Harga:']), keranjang, 0) * 1000\n",
    "\n",
    "hitung_pembayaran_1(keranjang)"
   ]
  }
 ],
 "metadata": {
  "interpreter": {
   "hash": "82cf50798d82ccd576f68f869cf82e434e86e9596c1ecd247e2359a828c37642"
  },
  "kernelspec": {
   "display_name": "Python 3.10.2 64-bit",
   "language": "python",
   "name": "python3"
  },
  "language_info": {
   "codemirror_mode": {
    "name": "ipython",
    "version": 3
   },
   "file_extension": ".py",
   "mimetype": "text/x-python",
   "name": "python",
   "nbconvert_exporter": "python",
   "pygments_lexer": "ipython3",
   "version": "3.10.2"
  },
  "orig_nbformat": 4
 },
 "nbformat": 4,
 "nbformat_minor": 2
}
