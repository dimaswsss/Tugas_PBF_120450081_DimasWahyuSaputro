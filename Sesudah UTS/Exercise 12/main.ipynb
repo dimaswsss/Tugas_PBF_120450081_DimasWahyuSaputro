{
 "cells": [
  {
   "cell_type": "markdown",
   "metadata": {},
   "source": [
    "# 1\n",
    "Ubah fungsiku menjadi pure function!\n"
   ]
  },
  {
   "cell_type": "code",
   "execution_count": 6,
   "metadata": {},
   "outputs": [],
   "source": [
    "def fungsiku(L):\n",
    "    def check_genap(l):\n",
    "        return l % 2 == 0\n",
    "    for i in range(len(L)):\n",
    "        if check_genap(L[i]):\n",
    "            L[i] = L[i] / 2\n",
    "        else:\n",
    "            L[i] = L[i] * n + 1\n",
    "    return L"
   ]
  },
  {
   "cell_type": "code",
   "execution_count": 16,
   "metadata": {},
   "outputs": [
    {
     "name": "stdout",
     "output_type": "stream",
     "text": [
      "[16, 3.0, 22, 4.0]\n",
      "[16, 3.0, 22, 4.0]\n"
     ]
    }
   ],
   "source": [
    "n = 3\n",
    "L = [5,6,7,8]\n",
    "print(fungsiku(L))\n",
    "print(L)"
   ]
  },
  {
   "cell_type": "code",
   "execution_count": 18,
   "metadata": {},
   "outputs": [],
   "source": [
    "# change function fungsiku to pure function using map\n",
    "def fungsiku_map(L):\n",
    "    def check_genap(l):\n",
    "        return l % 2 == 0\n",
    "    return map(lambda x: x / 2 if check_genap(x) else x * n + 1, L)\n"
   ]
  },
  {
   "cell_type": "code",
   "execution_count": 19,
   "metadata": {},
   "outputs": [
    {
     "name": "stdout",
     "output_type": "stream",
     "text": [
      "[16, 3.0, 22, 4.0]\n"
     ]
    }
   ],
   "source": [
    "n = 3\n",
    "L = [5,6,7,8]\n",
    "print(list(fungsiku_map(L)))"
   ]
  },
  {
   "cell_type": "markdown",
   "metadata": {},
   "source": [
    "# 2\n",
    "Ubah fungsiku2 menjadi pure function!\n"
   ]
  },
  {
   "cell_type": "code",
   "execution_count": 8,
   "metadata": {},
   "outputs": [],
   "source": [
    "def fungsiku2(L):\n",
    "    def check_faktor(l):\n",
    "        return l % n == 0\n",
    "    for i in range(len(L)):\n",
    "        if check_faktor(L[i]):\n",
    "            L[i] = L[i] / 2\n",
    "        else:\n",
    "            L[i] = L[i] * n + 1\n",
    "    return L"
   ]
  },
  {
   "cell_type": "code",
   "execution_count": 9,
   "metadata": {},
   "outputs": [
    {
     "name": "stdout",
     "output_type": "stream",
     "text": [
      "[16, 3.0, 22, 25]\n",
      "[16, 3.0, 22, 25]\n"
     ]
    }
   ],
   "source": [
    "n = 3\n",
    "L = [5,6,7,8]\n",
    "print(fungsiku2(L))\n",
    "print(L)"
   ]
  },
  {
   "cell_type": "code",
   "execution_count": 10,
   "metadata": {},
   "outputs": [],
   "source": [
    "# change function fungsiku2 to pure function using map\n",
    "def fungsiku2_map(L):\n",
    "    def check_faktor(l):\n",
    "        return l % n == 0\n",
    "    return map(lambda x: x / 2 if check_faktor(x) else x * n + 1, L)"
   ]
  },
  {
   "cell_type": "code",
   "execution_count": 13,
   "metadata": {},
   "outputs": [
    {
     "name": "stdout",
     "output_type": "stream",
     "text": [
      "[16, 3.0, 22, 25]\n"
     ]
    }
   ],
   "source": [
    "n = 3\n",
    "L = [5,6,7,8]\n",
    "print(list(fungsiku2_map(L)))"
   ]
  },
  {
   "cell_type": "markdown",
   "metadata": {},
   "source": [
    "# 3\n",
    "Apakah isi dalam tupel tup ada yang\n",
    "dapat diubah?\n",
    "\n",
    "tup = ([3, 4, 5], 'myname')"
   ]
  },
  {
   "cell_type": "code",
   "execution_count": null,
   "metadata": {},
   "outputs": [],
   "source": [
    "tup = ([3, 4, 5], 'myname')"
   ]
  },
  {
   "cell_type": "markdown",
   "metadata": {},
   "source": [
    "Tuple mirip dengan list. Bedanya, tuple bersifat immutable, sehingga anggotanya tidak bisa diubah"
   ]
  }
 ],
 "metadata": {
  "interpreter": {
   "hash": "82cf50798d82ccd576f68f869cf82e434e86e9596c1ecd247e2359a828c37642"
  },
  "kernelspec": {
   "display_name": "Python 3.10.2 64-bit",
   "language": "python",
   "name": "python3"
  },
  "language_info": {
   "codemirror_mode": {
    "name": "ipython",
    "version": 3
   },
   "file_extension": ".py",
   "mimetype": "text/x-python",
   "name": "python",
   "nbconvert_exporter": "python",
   "pygments_lexer": "ipython3",
   "version": "3.10.2"
  },
  "orig_nbformat": 4
 },
 "nbformat": 4,
 "nbformat_minor": 2
}
