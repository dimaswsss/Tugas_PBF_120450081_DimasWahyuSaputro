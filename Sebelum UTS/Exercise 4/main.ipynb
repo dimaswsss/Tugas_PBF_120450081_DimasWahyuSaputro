{
 "cells": [
  {
   "cell_type": "markdown",
   "metadata": {},
   "source": [
    "# Simple Football Game"
   ]
  },
  {
   "cell_type": "markdown",
   "metadata": {},
   "source": [
    "Rules and Events\n",
    "\n",
    "- 2 Tim, A dan B. 4 Pemain.\n",
    "- Role:\n",
    "    1. Goalkeeper (GK)\n",
    "    2. Defender (DF)\n",
    "    3. Midfielder (MD)\n",
    "    4. Attacker(ATK)\n",
    "- Dimulai dari t=0, hingga t=90. t int, min berubah = 1 menit.\n",
    "- Dimulai dari MD. Jika Gol, reset, dan kembali ke MD.\n",
    "- Simulasi Permainan ini dirancang berdasarkan beberapa event\n",
    "- Event yang berlangsung melibatkan skill pemain dan model graf permainan.\n",
    "- Setiap perpindahan event akan menyebabkan penambahan waktu permainan."
   ]
  },
  {
   "cell_type": "markdown",
   "metadata": {},
   "source": [
    "Role:\n",
    "1. Goalkeeper (GK)\n",
    "2. Defender (DF)\n",
    "3. Midfielder (MD)\n",
    "4. Attacker(ATK)\n",
    "\n",
    "Skill\n",
    "- S = Save, menyelamatkan gawang dari tendangan.\n",
    "- T = Tackle, menghadang giringan bola lawan.\n",
    "- P = Passing, mengoper bola ke kawan.\n",
    "\n",
    "Anti-Skill\n",
    "- H = Shoot, menendang bola ke arah gawang.\n",
    "- D = Dribble, menggiring bola melewati musuh.\n",
    "- I = Intercept, memotong operan lawan\n"
   ]
  },
  {
   "cell_type": "code",
   "execution_count": null,
   "metadata": {},
   "outputs": [],
   "source": [
    "tim_A = {\n",
    "    'GK_S': 81, 'GK_E': 80,\n",
    "    'DF_T': 79, 'DF_P': 78, 'DF_E': 79,\n",
    "    'MD_T': 60, 'MD_D': 76, 'MD_E': 78,\n",
    "    'ATK_D': 80, 'ATK_I': 85, 'ATK_H': 92, 'ATK_E': 77,\n",
    "}\n",
    "\n",
    "tim_B = {\n",
    "    'GK_S': 86, 'GK_E': 77,\n",
    "    'DF_T': 80, 'DF_P': 81, 'DF_E': 78,\n",
    "    'MD_T': 70, 'MD_D': 70, 'MD_E': 79,\n",
    "    'ATK_D': 81, 'ATK_I': 86, 'ATK_H': 90, 'ATK_E': 80,    \n",
    "}"
   ]
  },
  {
   "cell_type": "code",
   "execution_count": null,
   "metadata": {},
   "outputs": [],
   "source": [
    "import random\n",
    "\n",
    "# Skill calculation\n",
    "def skillcalc(S0, E, ka, kb):\n",
    "    # a: value yang dipengaruhi emotional pemain\n",
    "    # b: value yang dipengaruhi suppoerter tim\n",
    "\n",
    "    a = random.uniform(0,0.25) * E / 100 # E: Skill Mentality Pemain\n",
    "    b = random.uniform(0,0.25) * ( ka / ( ka + kb ) ) # ka: sum supporter tim, ka: sum supporter tim lawan\n",
    "    S = S0 * ( 1 - ( a + b )) # S0: skill pemain \n",
    "\n",
    "    return S"
   ]
  },
  {
   "cell_type": "code",
   "execution_count": null,
   "metadata": {},
   "outputs": [],
   "source": [
    "# hitung kemampuan pemain, menggunakan skillcalc\n",
    "def hitung_skill(tim):\n",
    "    pass"
   ]
  },
  {
   "cell_type": "code",
   "execution_count": null,
   "metadata": {},
   "outputs": [],
   "source": [
    "def mdA_mdB(tim_A, tim_B):\n",
    "    pass"
   ]
  }
 ],
 "metadata": {
  "interpreter": {
   "hash": "82cf50798d82ccd576f68f869cf82e434e86e9596c1ecd247e2359a828c37642"
  },
  "kernelspec": {
   "display_name": "Python 3.10.2 64-bit",
   "language": "python",
   "name": "python3"
  },
  "language_info": {
   "codemirror_mode": {
    "name": "ipython",
    "version": 3
   },
   "file_extension": ".py",
   "mimetype": "text/x-python",
   "name": "python",
   "nbconvert_exporter": "python",
   "pygments_lexer": "ipython3",
   "version": "3.10.2"
  },
  "orig_nbformat": 4
 },
 "nbformat": 4,
 "nbformat_minor": 2
}
