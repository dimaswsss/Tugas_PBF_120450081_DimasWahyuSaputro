{
 "cells": [
  {
   "cell_type": "markdown",
   "metadata": {},
   "source": [
    "# 1\n",
    "Given List P = ['a', 'k','u', 'l' , 'u' , 'p' , 'a' ]\n",
    "\n",
    "We want to make list of tuples of P like this\n",
    "\n",
    "P' = [ (1, 'a' ) , (3, 'k'), (5,'u'), (7,'l' ) , (9,'u'), (11,'p') , (13,'a') ]"
   ]
  },
  {
   "cell_type": "code",
   "execution_count": 7,
   "metadata": {},
   "outputs": [
    {
     "name": "stdout",
     "output_type": "stream",
     "text": [
      "[(0, 1), (1, 2), (2, 3), (3, 4), (4, 5), (5, 6), (6, 7), (7, 8), (8, 9)]\n"
     ]
    }
   ],
   "source": [
    "mylist = range(1,10)\n",
    "e_list = enumerate(mylist)\n",
    "print(list(e_list))"
   ]
  },
  {
   "cell_type": "code",
   "execution_count": 6,
   "metadata": {},
   "outputs": [
    {
     "name": "stdout",
     "output_type": "stream",
     "text": [
      "[(1, 'a'), (3, 'k'), (5, 'u'), (7, 'l'), (9, 'u'), (11, 'p'), (13, 'a')]\n"
     ]
    }
   ],
   "source": [
    "P = ['a', 'k', 'u', 'l', 'u', 'p', 'a']\n",
    "# P' = [ (1, 'a' ) , (3, 'k'), (5,'u'), (7,'l' ) , (9,'u'), (11,'p') , (13,'a') ]\n",
    "\n",
    "P_odd = list(map(lambda x: (x[0]*2+1, x[1]), enumerate(P)))\n",
    "print(P_odd)"
   ]
  },
  {
   "cell_type": "markdown",
   "metadata": {},
   "source": [
    "# 2\n",
    "Terdapat bilangan B\n",
    "\n",
    "B = 24\n",
    "\n",
    "Petakan B menjadi list faktor nya!\n",
    "\n",
    "B’ = [ 1,2,3,4,6,8,12,24]"
   ]
  },
  {
   "cell_type": "code",
   "execution_count": 10,
   "metadata": {},
   "outputs": [
    {
     "name": "stdout",
     "output_type": "stream",
     "text": [
      "[1, 2, 4, 5, 10, 20, 25, 50, 100]\n"
     ]
    }
   ],
   "source": [
    "B = 24\n",
    "# B’ = [ 1,2,3,4,6,8,12,24]\n",
    "\n",
    "# change the value of B to the list of its factors\n",
    "B_factors = list(filter(lambda x: B%x==0, range(1,B+1)))\n",
    "print(B_factors)"
   ]
  },
  {
   "cell_type": "markdown",
   "metadata": {},
   "source": [
    "# 3\n",
    "Diketahui matriks A,B,C sebagai berikut\n",
    "\n",
    "A = [ [3 , 4] , [ 5, 6 ] ]\n",
    "\n",
    "B = [ [1,2] , [ 7 , 8] ]\n",
    "\n",
    "C = AB\n",
    "\n",
    "Buatlah program untuk menghitung determinan matriks C menggunakan HOF map!"
   ]
  },
  {
   "cell_type": "code",
   "execution_count": 6,
   "metadata": {},
   "outputs": [
    {
     "name": "stdout",
     "output_type": "stream",
     "text": [
      "[[31, 38], [47, 58]]\n",
      "12\n"
     ]
    }
   ],
   "source": [
    "import numpy as np\n",
    "import functools as ft\n",
    "\n",
    "A = [ [3, 4] , [5, 6] ]\n",
    "B = [ [1, 2] , [7, 8] ]\n",
    "\n",
    "# C = A * B\n",
    "C = np.dot(A,B).tolist()\n",
    "print(C)\n",
    "\n",
    "# terlalu susah.\n",
    "# caclulate determinant of A without numpy\n",
    "def det(A):\n",
    "    if len(A) == 1:\n",
    "        return A[0][0]\n",
    "    else:\n",
    "        return sum( [ A[0][i]*(-1)**i*det( [ [ A[j][k] for k in range(len(A)) if k != i ] for j in range(1,len(A)) ] ) for i in range(len(A[0])) ] )\n",
    "\n",
    "print(det(C))"
   ]
  }
 ],
 "metadata": {
  "interpreter": {
   "hash": "82cf50798d82ccd576f68f869cf82e434e86e9596c1ecd247e2359a828c37642"
  },
  "kernelspec": {
   "display_name": "Python 3.10.2 64-bit",
   "language": "python",
   "name": "python3"
  },
  "language_info": {
   "codemirror_mode": {
    "name": "ipython",
    "version": 3
   },
   "file_extension": ".py",
   "mimetype": "text/x-python",
   "name": "python",
   "nbconvert_exporter": "python",
   "pygments_lexer": "ipython3",
   "version": "3.10.2"
  },
  "orig_nbformat": 4
 },
 "nbformat": 4,
 "nbformat_minor": 2
}
